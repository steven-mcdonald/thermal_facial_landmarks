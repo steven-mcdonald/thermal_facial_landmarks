{
 "cells": [
  {
   "cell_type": "code",
   "execution_count": 1,
   "id": "231e42ca",
   "metadata": {},
   "outputs": [],
   "source": [
    "import matplotlib.pyplot as plt\n",
    "import numpy as np\n",
    "import cv2\n",
    "\n",
    "import dlib\n",
    "from PIL import Image\n",
    "\n",
    "import face_alignment\n",
    "from skimage import io\n",
    "import copy\n",
    "import json\n",
    "import time\n",
    "import os\n",
    "import pickle\n",
    "import ffmpeg\n",
    "\n",
    "from natsort import natsorted, ns\n",
    "\n",
    "from scipy.signal import medfilt\n",
    "from scipy.ndimage.filters import uniform_filter1d"
   ]
  },
  {
   "cell_type": "code",
   "execution_count": 2,
   "id": "a4156bed",
   "metadata": {},
   "outputs": [],
   "source": [
    "def rgb_load(img_dir, first_img=0, last_img=None, interval=1):\n",
    "    # create list of jpg images in directory\n",
    "    filenames = [f for f in os.listdir(img_dir) if f.split('.')[1] == 'jpg']\n",
    "    filenames.sort()\n",
    "    \n",
    "    img_list = []\n",
    "    \n",
    "    # selecting images to analyse\n",
    "    filenames=filenames[first_img:last_img:interval]\n",
    "    \n",
    "    for filename in filenames:\n",
    "        img = dlib.load_rgb_image(img_dir + filename)\n",
    "        img_list.append(img)\n",
    "        \n",
    "    return filenames, img_list"
   ]
  },
  {
   "cell_type": "code",
   "execution_count": 3,
   "id": "e412d6da",
   "metadata": {},
   "outputs": [],
   "source": [
    "def thr_load(img_dir, first_img=0, last_img=None, interval=1):\n",
    "    # create list of jpg images in directory\n",
    "    filenames = [f for f in os.listdir(img_dir) if f.split('.')[1] == 'npy']\n",
    "    \n",
    "    filenames = natsorted(filenames, alg=ns.IGNORECASE)\n",
    "#     filenames.sort()\n",
    "        \n",
    "    img_list = []\n",
    "        \n",
    "    # selecting images to analyse\n",
    "    filenames=filenames[first_img:last_img:interval]\n",
    "        \n",
    "    for filename in filenames:\n",
    "        img = np.load(img_dir + filename)\n",
    "        img_list.append(img)\n",
    "        \n",
    "    return filenames, img_list"
   ]
  },
  {
   "cell_type": "code",
   "execution_count": 4,
   "id": "6d573f16",
   "metadata": {},
   "outputs": [],
   "source": [
    "def resize_image(image, new_size=(128, 128)):\n",
    "    img_resize = Image.fromarray(image)\n",
    "    img_resize = img_resize.resize(new_size, Image.ANTIALIAS)\n",
    "    img_resize_np = np.array(img_resize)\n",
    "    return img_resize_np"
   ]
  },
  {
   "cell_type": "code",
   "execution_count": 5,
   "id": "2e1191bd",
   "metadata": {},
   "outputs": [],
   "source": [
    "def resize_image_list(image_list, new_size=(128, 128)):\n",
    "    new_image_list = []\n",
    "    for i, img in enumerate(image_list):\n",
    "        new_image = resize_image(img, new_size=new_size)\n",
    "        new_image_list.append(new_image)\n",
    "    return new_image_list "
   ]
  },
  {
   "cell_type": "code",
   "execution_count": 6,
   "id": "54d8f169",
   "metadata": {},
   "outputs": [],
   "source": [
    "def json_load(json_dir):\n",
    "    # create list of jpg images in directory\n",
    "    filenames = [f for f in os.listdir(json_dir) if f.split('.')[1] == 'json']\n",
    "    filenames.sort()\n",
    "    \n",
    "    json_list = []\n",
    "    \n",
    "    for filename in filenames:\n",
    "        json_path = json_dir + filename\n",
    "        \n",
    "        with open(json_path) as json_file:\n",
    "            json_data = json.load(json_file)\n",
    "            json_list.append(json_data)\n",
    "        \n",
    "    return filenames, json_list"
   ]
  },
  {
   "cell_type": "code",
   "execution_count": 7,
   "id": "694720dc",
   "metadata": {},
   "outputs": [],
   "source": [
    "def json2tuples(json_lmarks):\n",
    "    landmark_tuples_thr = []\n",
    "    for c in json_lmarks['shapes']:\n",
    "        x = int(c['points'][0][0])\n",
    "        y = int(c['points'][0][1])\n",
    "        landmark_tuples_thr.append((x,y))\n",
    "    return landmark_tuples_thr"
   ]
  },
  {
   "cell_type": "code",
   "execution_count": 8,
   "id": "41bcb0c9",
   "metadata": {},
   "outputs": [],
   "source": [
    "def json2tuples_list(json_list):\n",
    "    lmark_list = []\n",
    "    for json_lmarks in json_list:\n",
    "        lmarks = json2tuples(json_lmarks)\n",
    "        lmark_list.append(lmarks)\n",
    "    return lmark_list"
   ]
  },
  {
   "cell_type": "code",
   "execution_count": 9,
   "id": "4878ba20",
   "metadata": {},
   "outputs": [],
   "source": [
    "def compare_plot(rgb_img_list, thr_img_list, img_no):\n",
    "    fig, ax = plt.subplots(ncols=2, figsize=(16, 12))\n",
    "    ax[0].imshow(thr_img_list[img_no])\n",
    "    ax[1].imshow(rgb_img_list[img_no])\n",
    "    ax[0].grid()\n",
    "    ax[1].grid()\n",
    "    plt.show()"
   ]
  },
  {
   "cell_type": "code",
   "execution_count": 10,
   "id": "4f00d244",
   "metadata": {},
   "outputs": [],
   "source": [
    "def sel_3d_lmarks(lmarks_list, sel_list):\n",
    "    lmarks_sel_list = []\n",
    "    for lmarks in lmarks_list:\n",
    "        lmarks_sel = [lmarks[x] for x in sel_list] \n",
    "        lmarks_sel_list.append(lmarks_sel)\n",
    "    return lmarks_sel_list"
   ]
  },
  {
   "cell_type": "code",
   "execution_count": 11,
   "id": "946f348f",
   "metadata": {},
   "outputs": [],
   "source": [
    "# output = optimal_quantization(mat, True)  \n",
    "def optimal_quantization(t2d_data, print_mode = False):\n",
    "    \n",
    "    t2d_data_cp = copy.deepcopy(t2d_data)  \n",
    "    \n",
    "    vector_data= np.reshape(t2d_data_cp, t2d_data_cp.shape[0]*t2d_data_cp.shape[1])\n",
    "    # select only values above zero when calculating min/max to avoid padding - sm\n",
    "    vector_data = vector_data[vector_data > 0]\n",
    "    \n",
    "    min_T=np.percentile(vector_data, 2.5)  #2.5 percentile point\n",
    "#     max_T=np.percentile(vector_data, 97.5) #97.5 percentile point\n",
    "    \n",
    "    # try a higher max_T - sm\n",
    "    max_T=np.percentile(vector_data, 100) #99.5 percentile point\n",
    "#     max_T = 36\n",
    "\n",
    "    t2d_data_cp[np.where(t2d_data_cp > max_T)]=max_T\n",
    "    t2d_data_cp[np.where(t2d_data_cp < min_T)]=min_T\n",
    "\n",
    "    opt_T=min_T\n",
    "    count=0\n",
    "    while True:\n",
    "        count+=1\n",
    "        mean_back=np.mean(t2d_data_cp[np.where(t2d_data_cp <= opt_T)])\n",
    "        mean_obj=np.mean(t2d_data_cp[np.where(t2d_data_cp > opt_T)])\n",
    "        if np.abs(opt_T - (mean_back+mean_obj)/2 )<0.005:\n",
    "            break;\n",
    "        else:\n",
    "            opt_T=(mean_back+mean_obj)/2\n",
    "\n",
    "    min_T=opt_T\n",
    "\n",
    "    if print_mode:\n",
    "        print(\"optimal thermal range is [%f, %f]\"%(min_T,max_T))\n",
    "\n",
    "    t2d_data_cp[np.where(t2d_data_cp < min_T)]=min_T\n",
    "\n",
    "    quantized_t_img=np.zeros((t2d_data_cp.shape[0],t2d_data_cp.shape[1]), np.uint8)\n",
    "\n",
    "    for i in range(0, t2d_data_cp.shape[0]):\n",
    "        for j in range(0, t2d_data_cp.shape[1]):\n",
    "            quantized_t_img[i,j]=255*((t2d_data_cp[i,j]-min_T)/(max_T-min_T))\n",
    "\n",
    "    return quantized_t_img "
   ]
  },
  {
   "cell_type": "code",
   "execution_count": 12,
   "id": "3d5f9199",
   "metadata": {},
   "outputs": [],
   "source": [
    "def opt_quant_list(image_list, print_mode=False):\n",
    "    new_image_list = []\n",
    "    for i, img in enumerate(image_list):\n",
    "        new_image = optimal_quantization(img, print_mode = print_mode)\n",
    "        new_image_list.append(new_image)\n",
    "    return new_image_list "
   ]
  },
  {
   "cell_type": "code",
   "execution_count": 13,
   "id": "58eb6bc2",
   "metadata": {},
   "outputs": [],
   "source": [
    "def output_thr_jpg_list(img_list, filename_list, save_dir):\n",
    "    for i, img in enumerate(img_list):\n",
    "        fname = filename_list[i].split('.')[0]\n",
    "        save_path = save_dir + fname + '_proc.jpg'\n",
    "        im = Image.fromarray(img)\n",
    "        im = im.convert(\"L\")\n",
    "        im.save(save_path)"
   ]
  },
  {
   "cell_type": "code",
   "execution_count": 14,
   "id": "d3622560",
   "metadata": {},
   "outputs": [],
   "source": [
    "def landmark_error(gtruth_lms, pred_lms):\n",
    "    K = len(gtruth_lms)\n",
    "#     print('K:', K)\n",
    "    leye_gt = gtruth_lms[0:2]\n",
    "    reye_gt = gtruth_lms[2:4]\n",
    "    leye_gt_centre = np.array(leye_gt).mean(axis=0)\n",
    "    reye_gt_centre = np.array(reye_gt).mean(axis=0)\n",
    "    Di = np.linalg.norm(leye_gt_centre-reye_gt_centre)\n",
    "#     print('leye_gt_centre:', leye_gt_centre)\n",
    "#     print('reye_gt_centre:', reye_gt_centre)\n",
    "#     print('Di:', Di)\n",
    "    dist_sum = 0\n",
    "    for i, lms in enumerate(gtruth_lms):\n",
    "        gt = np.array(gtruth_lms[i])\n",
    "        pred = np.array(pred_lms[i])\n",
    "        dist = np.linalg.norm(gt-pred)\n",
    "        dist_sum += dist\n",
    "#         print(i, dist)\n",
    "\n",
    "    lm_err = dist_sum/(K*Di)\n",
    "    # print('lm_err:', lm_err)\n",
    "    return lm_err   "
   ]
  },
  {
   "cell_type": "code",
   "execution_count": 15,
   "id": "12788c4e",
   "metadata": {},
   "outputs": [],
   "source": [
    "def landmark_error_list(gtruth_lms_list, pred_lms_list):\n",
    "    lm_err_list = []\n",
    "    for i in range(len(gtruth_lms_list)):\n",
    "        lm_err = landmark_error(gtruth_lms_list[i], pred_lms_list[i])\n",
    "        lm_err_list.append(lm_err)\n",
    "    return lm_err_list"
   ]
  },
  {
   "cell_type": "code",
   "execution_count": 16,
   "id": "e73167de",
   "metadata": {},
   "outputs": [],
   "source": [
    "def trans_3Dto2D_calc(thr_2Dlmarks_list, \n",
    "                      rgb_3Dlmarks_list, \n",
    "                      rgb_3Dlmarks_list_sel,\n",
    "                      camera_matrix,\n",
    "                      dist_coeffs):\n",
    "    \n",
    "    # select every 30th of rgb sel landmarks to match thermal\n",
    "    rgb_lmarks_list_sel_i30 = [rgb_3Dlmarks_list_sel[i] \n",
    "                                 for i in range(0,len(rgb_3Dlmarks_list_sel), 30)]\n",
    "    \n",
    "    rgb_sel_lmarks_2D_list = []\n",
    "    \n",
    "    success_list = []\n",
    "    rotvec_list = []\n",
    "    transvec_list = []\n",
    "    \n",
    "    rgb_68_lmarks_2D_med_list = []\n",
    "\n",
    "    for i in range(len(thr_2Dlmarks_list)):\n",
    "        # convert landmarks to numpy arrays\n",
    "        thr_lmarks_np = np.array(thr_2Dlmarks_list[i], dtype=\"double\")\n",
    "        rgb_lmarks_sel_np = np.stack(rgb_lmarks_list_sel_i30[i])\n",
    "                \n",
    "        # solve projection\n",
    "        (success, rot_vector, trans_vector) = cv2.solvePnP(rgb_lmarks_sel_np,\n",
    "                                                           thr_lmarks_np, \n",
    "                                                           camera_matrix, \n",
    "                                                           dist_coeffs)\n",
    "        \n",
    "        # project selected 3D RGB points to 2D Thermal image\n",
    "        rgb_lmarks_sel_2D_np, jacobian = cv2.projectPoints(rgb_lmarks_sel_np, \n",
    "                                                           rot_vector, \n",
    "                                                           trans_vector, \n",
    "                                                           camera_matrix, \n",
    "                                                           dist_coeffs)\n",
    "        \n",
    "        rgb_sel_lmarks_2D_list.append(rgb_lmarks_sel_2D_np)\n",
    "        \n",
    "        success_list.append(success)\n",
    "        rotvec_list.append(rot_vector)\n",
    "        transvec_list.append(trans_vector)\n",
    "\n",
    "    return rgb_sel_lmarks_2D_list, success_list, rotvec_list, transvec_list        "
   ]
  },
  {
   "cell_type": "code",
   "execution_count": 17,
   "id": "0e5c411a",
   "metadata": {},
   "outputs": [],
   "source": [
    "def trans_median_calc(rotvec_list, transvec_list):\n",
    "    \n",
    "    rotx_med = np.median([rot[0][0] for rot in rotvec_list])\n",
    "    roty_med = np.median([rot[1][0] for rot in rotvec_list])\n",
    "    rotz_med = np.median([rot[2][0] for rot in rotvec_list]) \n",
    "\n",
    "    trnx_med = np.median([trn[0][0] for trn in transvec_list])\n",
    "    trny_med = np.median([trn[1][0] for trn in transvec_list])\n",
    "    trnz_med = np.median([trn[2][0] for trn in transvec_list])\n",
    "    \n",
    "    rot_vector_med = np.array([[rotx_med], [roty_med], [rotz_med]])\n",
    "    trans_vector_med = np.array([[trnx_med], [trny_med], [trnz_med]])\n",
    "\n",
    "    return rot_vector_med, trans_vector_med"
   ]
  },
  {
   "cell_type": "code",
   "execution_count": 18,
   "id": "697ecf0c",
   "metadata": {},
   "outputs": [],
   "source": [
    "def trans_3Dto2D_apply(rgb_lmarks_list, rot_vector, trans_vector, \n",
    "                       camera_matrix, dist_coeffs):\n",
    "    \n",
    "    rgb_lmarks_2D_list = []\n",
    "    \n",
    "    for i in range(len(rgb_lmarks_list)):\n",
    "#         print(i)\n",
    "        # convert landmarks to numpy arrays\n",
    "        rgb_lmarks_np = np.stack(rgb_lmarks_list[i])\n",
    "#         print(rgb_lmarks_np.shape)\n",
    "        \n",
    "        # project 68 3D RGB points to 68 2D Thermal image\n",
    "        rgb_lmarks_2D_np, jacobian = cv2.projectPoints(rgb_lmarks_np, \n",
    "                                                       rot_vector, \n",
    "                                                       trans_vector, \n",
    "                                                       camera_matrix, \n",
    "                                                       dist_coeffs)\n",
    "        \n",
    "        rgb_lmarks_2D_list.append(rgb_lmarks_2D_np)\n",
    "        \n",
    "    return rgb_lmarks_2D_list    "
   ]
  },
  {
   "cell_type": "code",
   "execution_count": 19,
   "id": "3ffe138b",
   "metadata": {},
   "outputs": [],
   "source": [
    "def labelled_thr_jpg_output(thr_img_oq_list, rgb_68_lmarks_2D_list):\n",
    "    labelled_img_list = []\n",
    "\n",
    "    for i in range(len(thr_img_oq_list)):\n",
    "\n",
    "        im_thr_cp = thr_img_oq_list[i].copy()\n",
    "\n",
    "        for n in range(0,68):\n",
    "            try:\n",
    "                x=int(rgb_68_lmarks_2D_list[i][n][0][0])\n",
    "                y=int(rgb_68_lmarks_2D_list[i][n][0][1])\n",
    "                cv2.circle(im_thr_cp, (x, y), 1, (255, 255, 255), -1)\n",
    "            except:\n",
    "                pass\n",
    "        \n",
    "        labelled_img_list.append(im_thr_cp)  \n",
    "    \n",
    "    return labelled_img_list"
   ]
  },
  {
   "cell_type": "code",
   "execution_count": 26,
   "id": "ef9954b1",
   "metadata": {},
   "outputs": [],
   "source": [
    "def run_transform(p, rgb_first_img, rgb_last_img, rgb_int, thr_first_img, thr_last_img, thr_int, \n",
    "                  focal_length=5000):\n",
    "    \n",
    "    rgb_img_dir = '/Volumes/Ashur DT2/steven/P'+p+'/RGB/00000/'\n",
    "    rgb_fname_list, rgb_img_list = rgb_load(img_dir=rgb_img_dir, \n",
    "                                            first_img=rgb_first_img, \n",
    "                                            last_img=rgb_last_img, \n",
    "                                            interval=rgb_int)\n",
    "\n",
    "    thr_img_dir = '/Volumes/Ashur DT2/steven/P'+p+'/FLIR_HiRes/npy/'\n",
    "    thr_fname_list, thr_img_list = thr_load(img_dir=thr_img_dir, \n",
    "                                            first_img=thr_first_img, \n",
    "                                            last_img=thr_last_img, \n",
    "                                            interval=thr_int)\n",
    "\n",
    "    # resize rgb images\n",
    "    rgb_img_list = resize_image_list(rgb_img_list, new_size=(455,256))\n",
    "\n",
    "    # generate matching lists from rgb (25fps) to thermal (30fps)\n",
    "    # get new indices to sample closest frame in rgb for each thermal frame\n",
    "    new_interval = len(rgb_img_list)/len(thr_img_list)\n",
    "    print('len(rgb_img_list)', len(rgb_img_list))\n",
    "    print('len(thr_img_list)', len(thr_img_list))\n",
    "\n",
    "    new_indices = [round(x*new_interval) for x in range(0,len(thr_img_list))]\n",
    "\n",
    "    # create new rgb image list based on these indices\n",
    "    rgb_img_list_30fps = [rgb_img_list[i] for i in new_indices]\n",
    "    print('rgb img count:', len(rgb_img_list), 'to', len(rgb_img_list_30fps))\n",
    "\n",
    "    # load thermal landmark picks\n",
    "    json_dir = '/Volumes/Ashur DT2/steven/P'+p+'/FLIR_HiRes/picks_sel/'\n",
    "    json_fnames, json_list = json_load(json_dir)\n",
    "    # convert landmarks to list of tuples\n",
    "    thr_lmark_list = json2tuples_list(json_list)\n",
    "\n",
    "    # Load RGB 3D landmark picks\n",
    "    with open('/Volumes/Ashur DT2/steven/pickles/p'+p+'_3Dlmarks_01_169.pickle', 'rb') as handle:\n",
    "        rgb_3Dlmarks_list = pickle.load(handle)\n",
    "\n",
    "    print('len(rgb_3Dlmarks_list)', len(rgb_3Dlmarks_list))\n",
    "\n",
    "    # select first set of rgb landmarks for any frame  \n",
    "    rgb_3Dlmarks_list = [x[0] for x in rgb_3Dlmarks_list]\n",
    "\n",
    "    ### dirty fix for picked 3d landmarks less than 500. Just duplicate last landmark to end\n",
    "    if len(rgb_3Dlmarks_list) < 500:\n",
    "        for i in range(500 - len(rgb_3Dlmarks_list)):\n",
    "            rgb_3Dlmarks_list.append(rgb_3Dlmarks_list[-1])\n",
    "\n",
    "    print('len(rgb_3Dlmarks_list)', len(rgb_3Dlmarks_list))\n",
    "\n",
    "    # resample RGB 3D landmarks to match thermal frames\n",
    "    rgb_3Dlmarks_list_30fps = [rgb_3Dlmarks_list[i] for i in new_indices]\n",
    "    print('rgb lmark count:', len(rgb_3Dlmarks_list), 'to', len(rgb_3Dlmarks_list_30fps))\n",
    "\n",
    "#     if p in ['06', '10', '24']:\n",
    "#         # select 9 key landmarks from 3d set\n",
    "#         sel_list = [36,39,42,45,30,48,54,0,16]\n",
    "#     else:\n",
    "    # select 10 key landmarks from 3d set\n",
    "    sel_list = [36,39,42,45,30,48,54,0,8,16]\n",
    "\n",
    "    rgb_3Dlmarks_list_30fps_10 = sel_3d_lmarks(rgb_3Dlmarks_list_30fps, sel_list)        \n",
    "\n",
    "    # set parameters for 3D to 2D transform\n",
    "    size = thr_img_list[0].shape\n",
    "\n",
    "    # Camera internals\n",
    "#     focal_length = size[1]\n",
    "#     focal_length = 5000\n",
    "\n",
    "    center = (size[1]/2, size[0]/2)\n",
    "    camera_matrix = np.array(\n",
    "                             [[focal_length, 0, center[0]],\n",
    "                             [0, focal_length, center[1]],\n",
    "                             [0, 0, 1]], dtype = \"double\"\n",
    "                             )\n",
    "\n",
    "    # distortion coefficients - set to zero for now but \n",
    "    # would be useful to have values for this\n",
    "    dist_coeffs = np.zeros((4,1))\n",
    "\n",
    "    # Optimal quantisation\n",
    "    thr_img_oq_list = opt_quant_list(thr_img_list)\n",
    "\n",
    "    # calculate transform for the selected landmarks for the thermal labelled frames only\n",
    "    (rgb_sel_lmarks_2D_list, \n",
    "     success_list, \n",
    "     rotvec_list, \n",
    "     transvec_list)  = trans_3Dto2D_calc(thr_lmark_list, \n",
    "                       rgb_3Dlmarks_list_30fps, \n",
    "                       rgb_3Dlmarks_list_30fps_10,\n",
    "                       camera_matrix,\n",
    "                       dist_coeffs)\n",
    "\n",
    "#     # calculate 'median' rot and translation vectors from the list of transforms\n",
    "#     rot_vector_med, trans_vector_med = trans_median_calc(rotvec_list, transvec_list)\n",
    "    \n",
    "    # more difficult to get an average of transformation than median of values\n",
    "    # so just take first transform for now...\n",
    "    \n",
    "    # now choose the transform that makes the lowest error\n",
    "    low_err_dict = {'03':15, '04':12, '05':17, '06':12, '07':8, '08':11, '09':6, '10':15, '13':7, \n",
    "                    '14':0, '15':18, '16':13, '17':7, '22':4, '24':11, '25':16, '26':10, '27':16}\n",
    "    \n",
    "    rot_vector_med = rotvec_list[low_err_dict[p]]\n",
    "    trans_vector_med = transvec_list[low_err_dict[p]]\n",
    "\n",
    "    rgb_lmarks_2D_list = trans_3Dto2D_apply(rgb_3Dlmarks_list_30fps, rot_vector_med, trans_vector_med, \n",
    "                                            camera_matrix, dist_coeffs)\n",
    "\n",
    "    # output labelled thermal jpegs for QC\n",
    "    labelled_img_list = labelled_thr_jpg_output(thr_img_oq_list, rgb_lmarks_2D_list)\n",
    "\n",
    "    save_dir = '/Volumes/Ashur DT2/steven/P'+p+'/FLIR_HiRes/jpg_lmarks_169_low/'\n",
    "    if not os.path.exists(save_dir):\n",
    "        os.makedirs(save_dir)\n",
    "\n",
    "    output_thr_jpg_list(labelled_img_list, thr_fname_list, save_dir)\n",
    "\n",
    "    # Save transformed landmarks\n",
    "    with open('/Volumes/Ashur DT2/steven/pickles/p'+p+'_trans_lmarks_from10_low.pickle', 'wb') as handle:\n",
    "        pickle.dump(rgb_lmarks_2D_list, handle)\n",
    "        \n",
    "    # output mp4 of thermal images with landmarks as QC\n",
    "    jpg_path = '/Volumes/Ashur DT2/steven/P'+p+'/FLIR_HiRes/jpg_lmarks_169_low/'\n",
    "    mp4_path = '/Volumes/Ashur DT2/steven/P'+p+'/FLIR_HiRes/mp4/'\n",
    "    if not os.path.exists(mp4_path):\n",
    "        os.makedirs(mp4_path)\n",
    "\n",
    "    (\n",
    "    ffmpeg.input(jpg_path + '*.jpg', pattern_type='glob', framerate=30)\n",
    "          .output(mp4_path + 'p' + p + '_lmarks_169_from10_low.mp4').overwrite_output()\n",
    "          .run(capture_stdout=True, capture_stderr=True)\n",
    "    )"
   ]
  },
  {
   "cell_type": "code",
   "execution_count": 24,
   "id": "71b04d04",
   "metadata": {},
   "outputs": [
    {
     "name": "stdout",
     "output_type": "stream",
     "text": [
      "len(rgb_img_list) 500\n",
      "len(thr_img_list) 600\n",
      "rgb img count: 500 to 600\n",
      "len(rgb_3Dlmarks_list) 500\n",
      "len(rgb_3Dlmarks_list) 500\n",
      "rgb lmark count: 500 to 600\n",
      "runtime: 137.86947202682495\n"
     ]
    }
   ],
   "source": [
    "p = '03'\n",
    "\n",
    "rgb_first_img = 175\n",
    "rgb_last_img = 675\n",
    "rgb_int = 1\n",
    "\n",
    "thr_first_img = 1482\n",
    "thr_last_img = 2082\n",
    "thr_int = 1\n",
    "\n",
    "start_time = time.time()\n",
    "run_transform(p, rgb_first_img, rgb_last_img, rgb_int, \n",
    "              thr_first_img, thr_last_img, thr_int)\n",
    "print(\"runtime:\", time.time() - start_time)"
   ]
  },
  {
   "cell_type": "code",
   "execution_count": 27,
   "id": "6977b46a",
   "metadata": {},
   "outputs": [
    {
     "name": "stdout",
     "output_type": "stream",
     "text": [
      "len(rgb_img_list) 500\n",
      "len(thr_img_list) 600\n",
      "rgb img count: 500 to 600\n",
      "len(rgb_3Dlmarks_list) 500\n",
      "len(rgb_3Dlmarks_list) 500\n",
      "rgb lmark count: 500 to 600\n",
      "runtime: 107.5644142627716\n"
     ]
    }
   ],
   "source": [
    "p = '04'\n",
    "\n",
    "focal_length = 5000\n",
    "\n",
    "rgb_first_img = 11340\n",
    "rgb_last_img = 11840\n",
    "rgb_int = 1\n",
    "\n",
    "thr_first_img = 12758\n",
    "thr_last_img = 13358\n",
    "thr_int = 1\n",
    "\n",
    "start_time = time.time()\n",
    "run_transform(p, rgb_first_img, rgb_last_img, rgb_int, \n",
    "              thr_first_img, thr_last_img, thr_int, focal_length)\n",
    "print(\"runtime:\", time.time() - start_time)"
   ]
  },
  {
   "cell_type": "code",
   "execution_count": 28,
   "id": "7b98394f",
   "metadata": {},
   "outputs": [
    {
     "name": "stdout",
     "output_type": "stream",
     "text": [
      "len(rgb_img_list) 500\n",
      "len(thr_img_list) 600\n",
      "rgb img count: 500 to 600\n",
      "len(rgb_3Dlmarks_list) 500\n",
      "len(rgb_3Dlmarks_list) 500\n",
      "rgb lmark count: 500 to 600\n",
      "runtime: 95.61444306373596\n"
     ]
    }
   ],
   "source": [
    "p = '05'\n",
    "\n",
    "rgb_first_img = 14173\n",
    "rgb_last_img = 14673\n",
    "rgb_int = 1\n",
    "\n",
    "thr_first_img = 16067\n",
    "thr_last_img = 16667\n",
    "thr_int = 1\n",
    "\n",
    "focal_length = 5000\n",
    "\n",
    "start_time = time.time()\n",
    "run_transform(p, rgb_first_img, rgb_last_img, rgb_int, \n",
    "              thr_first_img, thr_last_img, thr_int, focal_length)\n",
    "print(\"runtime:\", time.time() - start_time)"
   ]
  },
  {
   "cell_type": "code",
   "execution_count": 29,
   "id": "725ba3cc",
   "metadata": {},
   "outputs": [
    {
     "name": "stdout",
     "output_type": "stream",
     "text": [
      "len(rgb_img_list) 500\n",
      "len(thr_img_list) 600\n",
      "rgb img count: 500 to 600\n",
      "len(rgb_3Dlmarks_list) 500\n",
      "len(rgb_3Dlmarks_list) 500\n",
      "rgb lmark count: 500 to 600\n",
      "runtime: 130.2781858444214\n"
     ]
    }
   ],
   "source": [
    "p = '06'\n",
    "\n",
    "rgb_first_img = 17500\n",
    "rgb_last_img = 18000\n",
    "rgb_int = 1\n",
    "\n",
    "thr_first_img = 20278\n",
    "thr_last_img = 20878\n",
    "thr_int = 1\n",
    "\n",
    "focal_length = 5000\n",
    "\n",
    "start_time = time.time()\n",
    "run_transform(p, rgb_first_img, rgb_last_img, rgb_int, \n",
    "              thr_first_img, thr_last_img, thr_int, focal_length)\n",
    "print(\"runtime:\", time.time() - start_time)"
   ]
  },
  {
   "cell_type": "code",
   "execution_count": 30,
   "id": "eaf81330",
   "metadata": {},
   "outputs": [
    {
     "name": "stdout",
     "output_type": "stream",
     "text": [
      "len(rgb_img_list) 500\n",
      "len(thr_img_list) 600\n",
      "rgb img count: 500 to 600\n",
      "len(rgb_3Dlmarks_list) 500\n",
      "len(rgb_3Dlmarks_list) 500\n",
      "rgb lmark count: 500 to 600\n",
      "runtime: 135.69974899291992\n"
     ]
    }
   ],
   "source": [
    "p = '07'\n",
    "\n",
    "rgb_first_img = 10826\n",
    "rgb_last_img = 11326\n",
    "rgb_int = 1\n",
    "\n",
    "thr_first_img = 12179\n",
    "thr_last_img = 12779\n",
    "thr_int = 1\n",
    "\n",
    "focal_length = 5000\n",
    "\n",
    "start_time = time.time()\n",
    "run_transform(p, rgb_first_img, rgb_last_img, rgb_int, \n",
    "              thr_first_img, thr_last_img, thr_int, focal_length)\n",
    "print(\"runtime:\", time.time() - start_time)"
   ]
  },
  {
   "cell_type": "code",
   "execution_count": 31,
   "id": "40baf896",
   "metadata": {},
   "outputs": [
    {
     "name": "stdout",
     "output_type": "stream",
     "text": [
      "len(rgb_img_list) 500\n",
      "len(thr_img_list) 600\n",
      "rgb img count: 500 to 600\n",
      "len(rgb_3Dlmarks_list) 500\n",
      "len(rgb_3Dlmarks_list) 500\n",
      "rgb lmark count: 500 to 600\n",
      "runtime: 129.87158489227295\n"
     ]
    }
   ],
   "source": [
    "p = '08'\n",
    "\n",
    "rgb_first_img = 13008\n",
    "rgb_last_img = 13508\n",
    "rgb_int = 1\n",
    "\n",
    "thr_first_img = 13098\n",
    "thr_last_img = 13698\n",
    "thr_int = 1\n",
    "\n",
    "focal_length = 5000\n",
    "\n",
    "start_time = time.time()\n",
    "run_transform(p, rgb_first_img, rgb_last_img, rgb_int, \n",
    "              thr_first_img, thr_last_img, thr_int, focal_length)\n",
    "print(\"runtime:\", time.time() - start_time)"
   ]
  },
  {
   "cell_type": "code",
   "execution_count": 32,
   "id": "3dd2952e",
   "metadata": {},
   "outputs": [
    {
     "name": "stdout",
     "output_type": "stream",
     "text": [
      "len(rgb_img_list) 500\n",
      "len(thr_img_list) 600\n",
      "rgb img count: 500 to 600\n",
      "len(rgb_3Dlmarks_list) 500\n",
      "len(rgb_3Dlmarks_list) 500\n",
      "rgb lmark count: 500 to 600\n",
      "runtime: 138.511066198349\n"
     ]
    }
   ],
   "source": [
    "p = '09'\n",
    "\n",
    "rgb_first_img = 13071\n",
    "rgb_last_img = 13571\n",
    "rgb_int = 1\n",
    "\n",
    "thr_first_img = 14876\n",
    "thr_last_img = 15476\n",
    "thr_int = 1\n",
    "\n",
    "focal_length = 5000\n",
    "\n",
    "start_time = time.time()\n",
    "run_transform(p, rgb_first_img, rgb_last_img, rgb_int, \n",
    "              thr_first_img, thr_last_img, thr_int, focal_length = 5000)\n",
    "print(\"runtime:\", time.time() - start_time)"
   ]
  },
  {
   "cell_type": "code",
   "execution_count": 33,
   "id": "4b7c62e7",
   "metadata": {},
   "outputs": [
    {
     "name": "stdout",
     "output_type": "stream",
     "text": [
      "len(rgb_img_list) 500\n",
      "len(thr_img_list) 600\n",
      "rgb img count: 500 to 600\n",
      "len(rgb_3Dlmarks_list) 500\n",
      "len(rgb_3Dlmarks_list) 500\n",
      "rgb lmark count: 500 to 600\n",
      "runtime: 132.5794939994812\n"
     ]
    }
   ],
   "source": [
    "p = '10'\n",
    "\n",
    "rgb_first_img = 15678\n",
    "rgb_last_img = 16178\n",
    "rgb_int = 1\n",
    "\n",
    "thr_first_img = 16901\n",
    "thr_last_img = 17501\n",
    "thr_int = 1\n",
    "\n",
    "focal_length = 5000\n",
    "\n",
    "start_time = time.time()\n",
    "run_transform(p, rgb_first_img, rgb_last_img, rgb_int, \n",
    "              thr_first_img, thr_last_img, thr_int, focal_length = 5000)\n",
    "print(\"runtime:\", time.time() - start_time)"
   ]
  },
  {
   "cell_type": "code",
   "execution_count": 34,
   "id": "431701d7",
   "metadata": {},
   "outputs": [
    {
     "name": "stdout",
     "output_type": "stream",
     "text": [
      "len(rgb_img_list) 500\n",
      "len(thr_img_list) 600\n",
      "rgb img count: 500 to 600\n",
      "len(rgb_3Dlmarks_list) 484\n",
      "len(rgb_3Dlmarks_list) 500\n",
      "rgb lmark count: 500 to 600\n",
      "runtime: 140.6541931629181\n"
     ]
    }
   ],
   "source": [
    "p = '13'\n",
    "\n",
    "rgb_first_img = 2743\n",
    "rgb_last_img = 3243\n",
    "rgb_int = 1\n",
    "\n",
    "thr_first_img = 2063\n",
    "thr_last_img = 2663\n",
    "thr_int = 1\n",
    "\n",
    "focal_length = 5000\n",
    "\n",
    "start_time = time.time()\n",
    "run_transform(p, rgb_first_img, rgb_last_img, rgb_int, \n",
    "              thr_first_img, thr_last_img, thr_int, focal_length = 5000)\n",
    "print(\"runtime:\", time.time() - start_time)"
   ]
  },
  {
   "cell_type": "code",
   "execution_count": 35,
   "id": "5be168d8",
   "metadata": {},
   "outputs": [
    {
     "name": "stdout",
     "output_type": "stream",
     "text": [
      "len(rgb_img_list) 500\n",
      "len(thr_img_list) 600\n",
      "rgb img count: 500 to 600\n",
      "len(rgb_3Dlmarks_list) 500\n",
      "len(rgb_3Dlmarks_list) 500\n",
      "rgb lmark count: 500 to 600\n",
      "runtime: 145.24791073799133\n"
     ]
    }
   ],
   "source": [
    "p = '14'\n",
    "\n",
    "rgb_first_img = 18226\n",
    "rgb_last_img = 18726\n",
    "rgb_int = 1\n",
    "\n",
    "thr_first_img = 20441\n",
    "thr_last_img = 21041\n",
    "thr_int = 1\n",
    "\n",
    "focal_length = 5000\n",
    "\n",
    "start_time = time.time()\n",
    "run_transform(p, rgb_first_img, rgb_last_img, rgb_int, \n",
    "              thr_first_img, thr_last_img, thr_int, focal_length = 5000)\n",
    "print(\"runtime:\", time.time() - start_time)"
   ]
  },
  {
   "cell_type": "code",
   "execution_count": 36,
   "id": "018614d8",
   "metadata": {},
   "outputs": [
    {
     "name": "stdout",
     "output_type": "stream",
     "text": [
      "len(rgb_img_list) 500\n",
      "len(thr_img_list) 600\n",
      "rgb img count: 500 to 600\n",
      "len(rgb_3Dlmarks_list) 500\n",
      "len(rgb_3Dlmarks_list) 500\n",
      "rgb lmark count: 500 to 600\n",
      "runtime: 134.70751786231995\n"
     ]
    }
   ],
   "source": [
    "p = '15'\n",
    "\n",
    "rgb_first_img = 6950\n",
    "rgb_last_img = 7450\n",
    "rgb_int = 1\n",
    "\n",
    "thr_first_img = 4051\n",
    "thr_last_img = 4651\n",
    "thr_int = 1\n",
    "\n",
    "focal_length = 5000\n",
    "\n",
    "start_time = time.time()\n",
    "run_transform(p, rgb_first_img, rgb_last_img, rgb_int, \n",
    "              thr_first_img, thr_last_img, thr_int, focal_length = 5000)\n",
    "print(\"runtime:\", time.time() - start_time)"
   ]
  },
  {
   "cell_type": "code",
   "execution_count": 37,
   "id": "6a401958",
   "metadata": {},
   "outputs": [
    {
     "name": "stdout",
     "output_type": "stream",
     "text": [
      "len(rgb_img_list) 500\n",
      "len(thr_img_list) 600\n",
      "rgb img count: 500 to 600\n",
      "len(rgb_3Dlmarks_list) 500\n",
      "len(rgb_3Dlmarks_list) 500\n",
      "rgb lmark count: 500 to 600\n",
      "runtime: 137.35830307006836\n"
     ]
    }
   ],
   "source": [
    "p = '16'\n",
    "\n",
    "rgb_first_img = 3403\n",
    "rgb_last_img = 3903\n",
    "rgb_int = 1\n",
    "\n",
    "thr_first_img = 3418\n",
    "thr_last_img = 4018\n",
    "thr_int = 1\n",
    "\n",
    "focal_length = 5000\n",
    "\n",
    "start_time = time.time()\n",
    "run_transform(p, rgb_first_img, rgb_last_img, rgb_int, \n",
    "              thr_first_img, thr_last_img, thr_int, focal_length = 5000)\n",
    "print(\"runtime:\", time.time() - start_time)"
   ]
  },
  {
   "cell_type": "code",
   "execution_count": 38,
   "id": "d4702f7e",
   "metadata": {},
   "outputs": [
    {
     "name": "stdout",
     "output_type": "stream",
     "text": [
      "len(rgb_img_list) 500\n",
      "len(thr_img_list) 600\n",
      "rgb img count: 500 to 600\n",
      "len(rgb_3Dlmarks_list) 500\n",
      "len(rgb_3Dlmarks_list) 500\n",
      "rgb lmark count: 500 to 600\n",
      "runtime: 142.6355860233307\n"
     ]
    }
   ],
   "source": [
    "p = '17'\n",
    "\n",
    "rgb_first_img = 2661\n",
    "rgb_last_img = 3161\n",
    "rgb_int = 1\n",
    "\n",
    "thr_first_img = 2355\n",
    "thr_last_img = 2955\n",
    "thr_int = 1\n",
    "\n",
    "focal_length = 5000\n",
    "\n",
    "start_time = time.time()\n",
    "run_transform(p, rgb_first_img, rgb_last_img, rgb_int, \n",
    "              thr_first_img, thr_last_img, thr_int, focal_length = 5000)\n",
    "print(\"runtime:\", time.time() - start_time)"
   ]
  },
  {
   "cell_type": "code",
   "execution_count": 39,
   "id": "6c86c4f5",
   "metadata": {},
   "outputs": [
    {
     "name": "stdout",
     "output_type": "stream",
     "text": [
      "len(rgb_img_list) 500\n",
      "len(thr_img_list) 600\n",
      "rgb img count: 500 to 600\n",
      "len(rgb_3Dlmarks_list) 500\n",
      "len(rgb_3Dlmarks_list) 500\n",
      "rgb lmark count: 500 to 600\n",
      "runtime: 148.0273141860962\n"
     ]
    }
   ],
   "source": [
    "p = '22'\n",
    "\n",
    "rgb_first_img = 7371\n",
    "rgb_last_img = 7871\n",
    "rgb_int = 1\n",
    "\n",
    "thr_first_img = 7548\n",
    "thr_last_img = 8148\n",
    "thr_int = 1\n",
    "\n",
    "focal_length = 5000\n",
    "\n",
    "start_time = time.time()\n",
    "run_transform(p, rgb_first_img, rgb_last_img, rgb_int, \n",
    "              thr_first_img, thr_last_img, thr_int, focal_length = 5000)\n",
    "print(\"runtime:\", time.time() - start_time)"
   ]
  },
  {
   "cell_type": "code",
   "execution_count": 40,
   "id": "94478851",
   "metadata": {},
   "outputs": [
    {
     "name": "stdout",
     "output_type": "stream",
     "text": [
      "len(rgb_img_list) 500\n",
      "len(thr_img_list) 600\n",
      "rgb img count: 500 to 600\n",
      "len(rgb_3Dlmarks_list) 500\n",
      "len(rgb_3Dlmarks_list) 500\n",
      "rgb lmark count: 500 to 600\n",
      "runtime: 144.5041778087616\n"
     ]
    }
   ],
   "source": [
    "p = '24'\n",
    "\n",
    "rgb_first_img = 9442\n",
    "rgb_last_img = 9942\n",
    "rgb_int = 1\n",
    "\n",
    "thr_first_img = 10086\n",
    "thr_last_img = 10686\n",
    "thr_int = 1\n",
    "\n",
    "focal_length = 5000\n",
    "\n",
    "start_time = time.time()\n",
    "run_transform(p, rgb_first_img, rgb_last_img, rgb_int, \n",
    "              thr_first_img, thr_last_img, thr_int, focal_length = 5000)\n",
    "print(\"runtime:\", time.time() - start_time)"
   ]
  },
  {
   "cell_type": "code",
   "execution_count": 41,
   "id": "86e7ecff",
   "metadata": {},
   "outputs": [
    {
     "name": "stdout",
     "output_type": "stream",
     "text": [
      "len(rgb_img_list) 500\n",
      "len(thr_img_list) 600\n",
      "rgb img count: 500 to 600\n",
      "len(rgb_3Dlmarks_list) 500\n",
      "len(rgb_3Dlmarks_list) 500\n",
      "rgb lmark count: 500 to 600\n",
      "runtime: 133.42524909973145\n"
     ]
    }
   ],
   "source": [
    "p = '25'\n",
    "\n",
    "rgb_first_img = 754\n",
    "rgb_last_img = 1254\n",
    "rgb_int = 1\n",
    "\n",
    "thr_first_img = 1819\n",
    "thr_last_img = 2419\n",
    "thr_int = 1\n",
    "\n",
    "focal_length = 5000\n",
    "\n",
    "start_time = time.time()\n",
    "run_transform(p, rgb_first_img, rgb_last_img, rgb_int, \n",
    "              thr_first_img, thr_last_img, thr_int, focal_length = 5000)\n",
    "print(\"runtime:\", time.time() - start_time)"
   ]
  },
  {
   "cell_type": "code",
   "execution_count": 42,
   "id": "3eb3cd29",
   "metadata": {},
   "outputs": [
    {
     "name": "stdout",
     "output_type": "stream",
     "text": [
      "len(rgb_img_list) 500\n",
      "len(thr_img_list) 600\n",
      "rgb img count: 500 to 600\n",
      "len(rgb_3Dlmarks_list) 499\n",
      "len(rgb_3Dlmarks_list) 500\n",
      "rgb lmark count: 500 to 600\n",
      "runtime: 163.84290289878845\n"
     ]
    }
   ],
   "source": [
    "p = '26'\n",
    "\n",
    "rgb_first_img = 1050\n",
    "rgb_last_img = 1550\n",
    "rgb_int = 1\n",
    "\n",
    "thr_first_img = 352\n",
    "thr_last_img = 952\n",
    "thr_int = 1\n",
    "\n",
    "focal_length = 5000\n",
    "\n",
    "start_time = time.time()\n",
    "run_transform(p, rgb_first_img, rgb_last_img, rgb_int, \n",
    "              thr_first_img, thr_last_img, thr_int, focal_length = 5000)\n",
    "print(\"runtime:\", time.time() - start_time)"
   ]
  },
  {
   "cell_type": "code",
   "execution_count": 43,
   "id": "c64f1fd8",
   "metadata": {},
   "outputs": [
    {
     "name": "stdout",
     "output_type": "stream",
     "text": [
      "len(rgb_img_list) 500\n",
      "len(thr_img_list) 600\n",
      "rgb img count: 500 to 600\n",
      "len(rgb_3Dlmarks_list) 500\n",
      "len(rgb_3Dlmarks_list) 500\n",
      "rgb lmark count: 500 to 600\n",
      "runtime: 137.05243492126465\n"
     ]
    }
   ],
   "source": [
    "p = '27'\n",
    "\n",
    "rgb_first_img = 7996\n",
    "rgb_last_img = 8496\n",
    "rgb_int = 1\n",
    "\n",
    "thr_first_img = 8767\n",
    "thr_last_img = 9367\n",
    "thr_int = 1\n",
    "\n",
    "focal_length = 5000\n",
    "\n",
    "start_time = time.time()\n",
    "run_transform(p, rgb_first_img, rgb_last_img, rgb_int, \n",
    "              thr_first_img, thr_last_img, thr_int, focal_length = 5000)\n",
    "print(\"runtime:\", time.time() - start_time)"
   ]
  },
  {
   "cell_type": "code",
   "execution_count": null,
   "id": "63365d7c",
   "metadata": {},
   "outputs": [],
   "source": []
  },
  {
   "cell_type": "code",
   "execution_count": null,
   "id": "df5fbd10",
   "metadata": {},
   "outputs": [],
   "source": []
  },
  {
   "cell_type": "code",
   "execution_count": null,
   "id": "eaac1c10",
   "metadata": {},
   "outputs": [],
   "source": []
  },
  {
   "cell_type": "code",
   "execution_count": null,
   "id": "fec200c8",
   "metadata": {},
   "outputs": [],
   "source": []
  },
  {
   "cell_type": "code",
   "execution_count": null,
   "id": "e15dc5c5",
   "metadata": {},
   "outputs": [],
   "source": []
  }
 ],
 "metadata": {
  "kernelspec": {
   "display_name": "Python 3",
   "language": "python",
   "name": "python3"
  },
  "language_info": {
   "codemirror_mode": {
    "name": "ipython",
    "version": 3
   },
   "file_extension": ".py",
   "mimetype": "text/x-python",
   "name": "python",
   "nbconvert_exporter": "python",
   "pygments_lexer": "ipython3",
   "version": "3.8.10"
  }
 },
 "nbformat": 4,
 "nbformat_minor": 5
}
