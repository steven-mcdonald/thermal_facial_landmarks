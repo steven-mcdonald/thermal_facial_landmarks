{
 "cells": [
  {
   "cell_type": "code",
   "execution_count": 1,
   "id": "91bf8337",
   "metadata": {},
   "outputs": [],
   "source": [
    "import os\n",
    "import sys\n",
    "import numpy as np\n",
    "import matplotlib.pyplot as plt\n",
    "import copy\n",
    "import time\n",
    "from natsort import natsorted, ns\n",
    "import scipy.io\n",
    "import cv2\n",
    "import dlib\n",
    "from PIL import Image"
   ]
  },
  {
   "cell_type": "markdown",
   "id": "91ee03f9",
   "metadata": {},
   "source": [
    "## Useful Functions"
   ]
  },
  {
   "cell_type": "code",
   "execution_count": 2,
   "id": "5b879e05",
   "metadata": {},
   "outputs": [],
   "source": [
    "def thr_load(img_dir, first_img=0, last_img=None, interval=1):\n",
    "    \"\"\"load a range of thermal files\"\"\"\n",
    "    # create list of jpg images in directory\n",
    "    filenames = [f for f in os.listdir(img_dir) if f.split('.')[1] == 'npy']\n",
    "    # sort filenames\n",
    "    filenames = natsorted(filenames, alg=ns.IGNORECASE)\n",
    "        \n",
    "    img_list = []\n",
    "        \n",
    "    # selecting images to analyse\n",
    "    filenames=filenames[first_img:last_img:interval]\n",
    "        \n",
    "    for filename in filenames:\n",
    "        img = np.load(img_dir + filename)\n",
    "        img_list.append(img)\n",
    "        \n",
    "    return filenames, img_list"
   ]
  },
  {
   "cell_type": "code",
   "execution_count": 3,
   "id": "c093b884",
   "metadata": {},
   "outputs": [],
   "source": [
    "def thr_vid_export(thr_img_list, out_path, fps=30):\n",
    "    \"\"\"generate thermal video to find sync point\"\"\"\n",
    "    h, w = thr_img_list[0].shape\n",
    "    out = cv2.VideoWriter(out_path, \n",
    "                          cv2.VideoWriter_fourcc('M','J','P','G'),\n",
    "                          fps, (w, h)) \n",
    "    for i in range(len(thr_img_list)):\n",
    "        rgb_img = thr_img_list[i]\n",
    "        # normalise values and scale to 0-255\n",
    "        rgb_img = (rgb_img/rgb_img.max()) * 255\n",
    "\n",
    "        rgb_img = np.repeat(rgb_img.reshape(h, w, 1), 3, axis=2)\n",
    "        rgb_img = rgb_img.astype('uint8') \n",
    "        rgb_img = cv2.cvtColor(rgb_img, cv2.COLOR_RGB2BGR)\n",
    "        out.write(rgb_img)\n",
    "    out.release()    "
   ]
  },
  {
   "cell_type": "markdown",
   "id": "98d5c30f",
   "metadata": {},
   "source": [
    "### Export a video to quickly search the thermal data"
   ]
  },
  {
   "cell_type": "code",
   "execution_count": 7,
   "id": "d404d7c9",
   "metadata": {},
   "outputs": [
    {
     "name": "stdout",
     "output_type": "stream",
     "text": [
      "runtime: 1829.4121708869934\n"
     ]
    }
   ],
   "source": [
    "p = '03'\n",
    "first_img = 0\n",
    "last_img = 25000\n",
    "interval = 1\n",
    "\n",
    "img_dir = '/Volumes/Ashur DT2/steven/P'+p+'/FLIR_HiRes/npy/'\n",
    "\n",
    "start_time = time.time()\n",
    "thr_fname_list, thr_img_list = thr_load(img_dir=img_dir, first_img=first_img, last_img=last_img, interval=interval)\n",
    "\n",
    "fframe = thr_fname_list[0].split('.')[0]\n",
    "lframe = thr_fname_list[-1].split('.')[0]\n",
    "out_name = fframe + '_to_' + lframe + '.avi'\n",
    "out_path = '/Volumes/Ashur DT2/steven/P'+p+'/FLIR_HiRes/avi/'\n",
    "\n",
    "# make output directory if it does not exist\n",
    "if not os.path.exists(out_path):\n",
    "    os.makedirs(out_path)\n",
    "\n",
    "thr_vid_export(thr_img_list, out_path+out_name)\n",
    "\n",
    "print(\"runtime:\", time.time() - start_time)"
   ]
  },
  {
   "cell_type": "code",
   "execution_count": 6,
   "id": "f1ef7a3c",
   "metadata": {},
   "outputs": [
    {
     "name": "stdout",
     "output_type": "stream",
     "text": [
      "runtime: 1853.0945348739624\n"
     ]
    }
   ],
   "source": [
    "p = '04'\n",
    "first_img = 0\n",
    "last_img = 25000\n",
    "interval = 1\n",
    "\n",
    "img_dir = '/Volumes/Ashur DT2/steven/P'+p+'/FLIR_HiRes/npy/'\n",
    "\n",
    "start_time = time.time()\n",
    "thr_fname_list, thr_img_list = thr_load(img_dir=img_dir, first_img=first_img, last_img=last_img, interval=interval)\n",
    "\n",
    "fframe = thr_fname_list[0].split('.')[0]\n",
    "lframe = thr_fname_list[-1].split('.')[0]\n",
    "out_name = fframe + '_to_' + lframe + '.avi'\n",
    "out_path = '/Volumes/Ashur DT2/steven/P'+p+'/FLIR_HiRes/avi/'\n",
    "\n",
    "# make output directory if it does not exist\n",
    "if not os.path.exists(out_path):\n",
    "    os.makedirs(out_path)\n",
    "\n",
    "thr_vid_export(thr_img_list, out_path+out_name)\n",
    "\n",
    "print(\"runtime:\", time.time() - start_time)"
   ]
  },
  {
   "cell_type": "code",
   "execution_count": 5,
   "id": "eedc4cee",
   "metadata": {},
   "outputs": [
    {
     "name": "stdout",
     "output_type": "stream",
     "text": [
      "runtime: 1549.3760619163513\n"
     ]
    }
   ],
   "source": [
    "p = '05'\n",
    "first_img = 0\n",
    "last_img = 25000\n",
    "interval = 1\n",
    "\n",
    "img_dir = '/Volumes/Ashur DT2/steven/P'+p+'/FLIR_HiRes/npy/'\n",
    "\n",
    "start_time = time.time()\n",
    "thr_fname_list, thr_img_list = thr_load(img_dir=img_dir, first_img=first_img, last_img=last_img, interval=interval)\n",
    "\n",
    "fframe = thr_fname_list[0].split('.')[0]\n",
    "lframe = thr_fname_list[-1].split('.')[0]\n",
    "out_name = fframe + '_to_' + lframe + '.avi'\n",
    "out_path = '/Volumes/Ashur DT2/steven/P'+p+'/FLIR_HiRes/avi/'\n",
    "\n",
    "# make output directory if it does not exist\n",
    "if not os.path.exists(out_path):\n",
    "    os.makedirs(out_path)\n",
    "\n",
    "thr_vid_export(thr_img_list, out_path+out_name)\n",
    "\n",
    "print(\"runtime:\", time.time() - start_time)"
   ]
  },
  {
   "cell_type": "code",
   "execution_count": 4,
   "id": "8bf906c9",
   "metadata": {},
   "outputs": [
    {
     "name": "stdout",
     "output_type": "stream",
     "text": [
      "runtime: 1624.839607000351\n"
     ]
    }
   ],
   "source": [
    "p = '06'\n",
    "first_img = 0\n",
    "last_img = 25000\n",
    "interval = 1\n",
    "\n",
    "img_dir = '/Volumes/Ashur DT2/steven/P'+p+'/FLIR_HiRes/npy/'\n",
    "\n",
    "start_time = time.time()\n",
    "thr_fname_list, thr_img_list = thr_load(img_dir=img_dir, first_img=first_img, last_img=last_img, interval=interval)\n",
    "\n",
    "fframe = thr_fname_list[0].split('.')[0]\n",
    "lframe = thr_fname_list[-1].split('.')[0]\n",
    "out_name = fframe + '_to_' + lframe + '.avi'\n",
    "out_path = '/Volumes/Ashur DT2/steven/P'+p+'/FLIR_HiRes/avi/'\n",
    "\n",
    "# make output directory if it does not exist\n",
    "if not os.path.exists(out_path):\n",
    "    os.makedirs(out_path)\n",
    "\n",
    "thr_vid_export(thr_img_list, out_path+out_name)\n",
    "\n",
    "print(\"runtime:\", time.time() - start_time)"
   ]
  },
  {
   "cell_type": "code",
   "execution_count": 14,
   "id": "e635eed7",
   "metadata": {},
   "outputs": [
    {
     "name": "stdout",
     "output_type": "stream",
     "text": [
      "runtime: 1658.0271780490875\n"
     ]
    }
   ],
   "source": [
    "p = '07'\n",
    "first_img = 0\n",
    "last_img = 25000\n",
    "interval = 1\n",
    "\n",
    "img_dir = '/Volumes/Ashur DT2/steven/P'+p+'/FLIR_HiRes/npy/'\n",
    "\n",
    "start_time = time.time()\n",
    "thr_fname_list, thr_img_list = thr_load(img_dir=img_dir, first_img=first_img, last_img=last_img, interval=interval)\n",
    "\n",
    "fframe = thr_fname_list[0].split('.')[0]\n",
    "lframe = thr_fname_list[-1].split('.')[0]\n",
    "out_name = fframe + '_to_' + lframe + '.avi'\n",
    "out_path = '/Volumes/Ashur DT2/steven/P'+p+'/FLIR_HiRes/avi/'\n",
    "\n",
    "# make output directory if it does not exist\n",
    "if not os.path.exists(out_path):\n",
    "    os.makedirs(out_path)\n",
    "\n",
    "thr_vid_export(thr_img_list, out_path+out_name)\n",
    "\n",
    "print(\"runtime:\", time.time() - start_time)"
   ]
  },
  {
   "cell_type": "code",
   "execution_count": 13,
   "id": "5fac68dc",
   "metadata": {},
   "outputs": [
    {
     "name": "stdout",
     "output_type": "stream",
     "text": [
      "runtime: 1589.2621667385101\n"
     ]
    }
   ],
   "source": [
    "p = '08'\n",
    "first_img = 0\n",
    "last_img = 25000\n",
    "interval = 1\n",
    "\n",
    "img_dir = '/Volumes/Ashur DT2/steven/P'+p+'/FLIR_HiRes/npy/'\n",
    "\n",
    "start_time = time.time()\n",
    "thr_fname_list, thr_img_list = thr_load(img_dir=img_dir, first_img=first_img, last_img=last_img, interval=interval)\n",
    "\n",
    "fframe = thr_fname_list[0].split('.')[0]\n",
    "lframe = thr_fname_list[-1].split('.')[0]\n",
    "out_name = fframe + '_to_' + lframe + '.avi'\n",
    "out_path = '/Volumes/Ashur DT2/steven/P'+p+'/FLIR_HiRes/avi/'\n",
    "\n",
    "# make output directory if it does not exist\n",
    "if not os.path.exists(out_path):\n",
    "    os.makedirs(out_path)\n",
    "\n",
    "thr_vid_export(thr_img_list, out_path+out_name)\n",
    "\n",
    "print(\"runtime:\", time.time() - start_time)"
   ]
  },
  {
   "cell_type": "code",
   "execution_count": 12,
   "id": "9734c2bc",
   "metadata": {},
   "outputs": [
    {
     "name": "stdout",
     "output_type": "stream",
     "text": [
      "runtime: 1532.1415839195251\n"
     ]
    }
   ],
   "source": [
    "p = '09'\n",
    "first_img = 0\n",
    "last_img = 25000\n",
    "interval = 1\n",
    "\n",
    "img_dir = '/Volumes/Ashur DT2/steven/P'+p+'/FLIR_HiRes/npy/'\n",
    "\n",
    "start_time = time.time()\n",
    "thr_fname_list, thr_img_list = thr_load(img_dir=img_dir, first_img=first_img, last_img=last_img, interval=interval)\n",
    "\n",
    "fframe = thr_fname_list[0].split('.')[0]\n",
    "lframe = thr_fname_list[-1].split('.')[0]\n",
    "out_name = fframe + '_to_' + lframe + '.avi'\n",
    "out_path = '/Volumes/Ashur DT2/steven/P'+p+'/FLIR_HiRes/avi/'\n",
    "\n",
    "# make output directory if it does not exist\n",
    "if not os.path.exists(out_path):\n",
    "    os.makedirs(out_path)\n",
    "\n",
    "thr_vid_export(thr_img_list, out_path+out_name)\n",
    "\n",
    "print(\"runtime:\", time.time() - start_time)"
   ]
  },
  {
   "cell_type": "code",
   "execution_count": 4,
   "id": "969d2803",
   "metadata": {},
   "outputs": [
    {
     "name": "stdout",
     "output_type": "stream",
     "text": [
      "runtime: 1665.488482952118\n"
     ]
    }
   ],
   "source": [
    "p = '14'\n",
    "first_img = 0\n",
    "last_img = 25000\n",
    "interval = 1\n",
    "\n",
    "img_dir = '/Volumes/Ashur DT2/steven/P'+p+'/FLIR_HiRes/npy/'\n",
    "\n",
    "start_time = time.time()\n",
    "thr_fname_list, thr_img_list = thr_load(img_dir=img_dir, first_img=first_img, last_img=last_img, interval=interval)\n",
    "\n",
    "fframe = thr_fname_list[0].split('.')[0]\n",
    "lframe = thr_fname_list[-1].split('.')[0]\n",
    "out_name = fframe + '_to_' + lframe + '.avi'\n",
    "out_path = '/Volumes/Ashur DT2/steven/P'+p+'/FLIR_HiRes/avi/'\n",
    "\n",
    "# make output directory if it does not exist\n",
    "if not os.path.exists(out_path):\n",
    "    os.makedirs(out_path)\n",
    "\n",
    "thr_vid_export(thr_img_list, out_path+out_name)\n",
    "\n",
    "print(\"runtime:\", time.time() - start_time)"
   ]
  },
  {
   "cell_type": "code",
   "execution_count": 5,
   "id": "15737053",
   "metadata": {},
   "outputs": [
    {
     "name": "stdout",
     "output_type": "stream",
     "text": [
      "runtime: 1795.30890417099\n"
     ]
    }
   ],
   "source": [
    "p = '15'\n",
    "first_img = 0\n",
    "last_img = 25000\n",
    "interval = 1\n",
    "\n",
    "img_dir = '/Volumes/Ashur DT2/steven/P'+p+'/FLIR_HiRes/npy/'\n",
    "\n",
    "start_time = time.time()\n",
    "thr_fname_list, thr_img_list = thr_load(img_dir=img_dir, first_img=first_img, last_img=last_img, interval=interval)\n",
    "\n",
    "fframe = thr_fname_list[0].split('.')[0]\n",
    "lframe = thr_fname_list[-1].split('.')[0]\n",
    "out_name = fframe + '_to_' + lframe + '.avi'\n",
    "out_path = '/Volumes/Ashur DT2/steven/P'+p+'/FLIR_HiRes/avi/'\n",
    "\n",
    "# make output directory if it does not exist\n",
    "if not os.path.exists(out_path):\n",
    "    os.makedirs(out_path)\n",
    "\n",
    "thr_vid_export(thr_img_list, out_path+out_name)\n",
    "\n",
    "print(\"runtime:\", time.time() - start_time)"
   ]
  },
  {
   "cell_type": "code",
   "execution_count": 6,
   "id": "f0d95d0a",
   "metadata": {},
   "outputs": [
    {
     "name": "stdout",
     "output_type": "stream",
     "text": [
      "runtime: 1673.0241219997406\n"
     ]
    }
   ],
   "source": [
    "p = '16'\n",
    "first_img = 0\n",
    "last_img = 25000\n",
    "interval = 1\n",
    "\n",
    "img_dir = '/Volumes/Ashur DT2/steven/P'+p+'/FLIR_HiRes/npy/'\n",
    "\n",
    "start_time = time.time()\n",
    "thr_fname_list, thr_img_list = thr_load(img_dir=img_dir, first_img=first_img, last_img=last_img, interval=interval)\n",
    "\n",
    "fframe = thr_fname_list[0].split('.')[0]\n",
    "lframe = thr_fname_list[-1].split('.')[0]\n",
    "out_name = fframe + '_to_' + lframe + '.avi'\n",
    "out_path = '/Volumes/Ashur DT2/steven/P'+p+'/FLIR_HiRes/avi/'\n",
    "\n",
    "# make output directory if it does not exist\n",
    "if not os.path.exists(out_path):\n",
    "    os.makedirs(out_path)\n",
    "\n",
    "thr_vid_export(thr_img_list, out_path+out_name)\n",
    "\n",
    "print(\"runtime:\", time.time() - start_time)"
   ]
  },
  {
   "cell_type": "code",
   "execution_count": 8,
   "id": "6ed6f142",
   "metadata": {},
   "outputs": [
    {
     "name": "stdout",
     "output_type": "stream",
     "text": [
      "runtime: 1772.2727119922638\n"
     ]
    }
   ],
   "source": [
    "p = '17'\n",
    "first_img = 0\n",
    "last_img = 25000\n",
    "interval = 1\n",
    "\n",
    "img_dir = '/Volumes/Ashur DT2/steven/P'+p+'/FLIR_HiRes/npy/'\n",
    "\n",
    "start_time = time.time()\n",
    "thr_fname_list, thr_img_list = thr_load(img_dir=img_dir, first_img=first_img, last_img=last_img, interval=interval)\n",
    "\n",
    "fframe = thr_fname_list[0].split('.')[0]\n",
    "lframe = thr_fname_list[-1].split('.')[0]\n",
    "out_name = fframe + '_to_' + lframe + '.avi'\n",
    "out_path = '/Volumes/Ashur DT2/steven/P'+p+'/FLIR_HiRes/avi/'\n",
    "\n",
    "# make output directory if it does not exist\n",
    "if not os.path.exists(out_path):\n",
    "    os.makedirs(out_path)\n",
    "\n",
    "thr_vid_export(thr_img_list, out_path+out_name)\n",
    "\n",
    "print(\"runtime:\", time.time() - start_time)"
   ]
  },
  {
   "cell_type": "code",
   "execution_count": 7,
   "id": "e2fb274d",
   "metadata": {},
   "outputs": [
    {
     "name": "stdout",
     "output_type": "stream",
     "text": [
      "runtime: 1609.047397851944\n"
     ]
    }
   ],
   "source": [
    "p = '18'\n",
    "first_img = 0\n",
    "last_img = 25000\n",
    "interval = 1\n",
    "\n",
    "img_dir = '/Volumes/Ashur DT2/steven/P'+p+'/FLIR_HiRes/npy/'\n",
    "\n",
    "start_time = time.time()\n",
    "thr_fname_list, thr_img_list = thr_load(img_dir=img_dir, first_img=first_img, last_img=last_img, interval=interval)\n",
    "\n",
    "fframe = thr_fname_list[0].split('.')[0]\n",
    "lframe = thr_fname_list[-1].split('.')[0]\n",
    "out_name = fframe + '_to_' + lframe + '.avi'\n",
    "out_path = '/Volumes/Ashur DT2/steven/P'+p+'/FLIR_HiRes/avi/'\n",
    "\n",
    "# make output directory if it does not exist\n",
    "if not os.path.exists(out_path):\n",
    "    os.makedirs(out_path)\n",
    "\n",
    "thr_vid_export(thr_img_list, out_path+out_name)\n",
    "\n",
    "print(\"runtime:\", time.time() - start_time)"
   ]
  },
  {
   "cell_type": "code",
   "execution_count": 4,
   "id": "62ef77aa",
   "metadata": {},
   "outputs": [
    {
     "name": "stdout",
     "output_type": "stream",
     "text": [
      "runtime: 1633.8686380386353\n"
     ]
    }
   ],
   "source": [
    "### trying 18 at 60Hz ###\n",
    "\n",
    "p = '18'\n",
    "first_img = 0\n",
    "last_img = 25000\n",
    "interval = 1\n",
    "\n",
    "img_dir = '/Volumes/Ashur DT2/steven/P'+p+'/FLIR_HiRes/npy/'\n",
    "\n",
    "start_time = time.time()\n",
    "thr_fname_list, thr_img_list = thr_load(img_dir=img_dir, first_img=first_img, last_img=last_img, interval=interval)\n",
    "\n",
    "fframe = thr_fname_list[0].split('.')[0]\n",
    "lframe = thr_fname_list[-1].split('.')[0]\n",
    "out_name = fframe + '_to_' + lframe + '_60Hz.avi'\n",
    "out_path = '/Volumes/Ashur DT2/steven/P'+p+'/FLIR_HiRes/avi/'\n",
    "\n",
    "# make output directory if it does not exist\n",
    "if not os.path.exists(out_path):\n",
    "    os.makedirs(out_path)\n",
    "\n",
    "thr_vid_export(thr_img_list, out_path+out_name, fps=60)\n",
    "\n",
    "print(\"runtime:\", time.time() - start_time)"
   ]
  },
  {
   "cell_type": "code",
   "execution_count": 8,
   "id": "7b7b29b9",
   "metadata": {},
   "outputs": [
    {
     "name": "stdout",
     "output_type": "stream",
     "text": [
      "runtime: 1664.5793070793152\n"
     ]
    }
   ],
   "source": [
    "p = '19'\n",
    "first_img = 0\n",
    "last_img = 25000\n",
    "interval = 1\n",
    "\n",
    "img_dir = '/Volumes/Ashur DT2/steven/P'+p+'/FLIR_HiRes/npy/'\n",
    "\n",
    "start_time = time.time()\n",
    "thr_fname_list, thr_img_list = thr_load(img_dir=img_dir, first_img=first_img, last_img=last_img, interval=interval)\n",
    "\n",
    "fframe = thr_fname_list[0].split('.')[0]\n",
    "lframe = thr_fname_list[-1].split('.')[0]\n",
    "out_name = fframe + '_to_' + lframe + '.avi'\n",
    "out_path = '/Volumes/Ashur DT2/steven/P'+p+'/FLIR_HiRes/avi/'\n",
    "\n",
    "# make output directory if it does not exist\n",
    "if not os.path.exists(out_path):\n",
    "    os.makedirs(out_path)\n",
    "\n",
    "thr_vid_export(thr_img_list, out_path+out_name)\n",
    "\n",
    "print(\"runtime:\", time.time() - start_time)"
   ]
  },
  {
   "cell_type": "code",
   "execution_count": 9,
   "id": "a32b3745",
   "metadata": {},
   "outputs": [
    {
     "name": "stdout",
     "output_type": "stream",
     "text": [
      "runtime: 1892.6951508522034\n"
     ]
    }
   ],
   "source": [
    "p = '20'\n",
    "first_img = 0\n",
    "last_img = 25000\n",
    "interval = 1\n",
    "\n",
    "img_dir = '/Volumes/Ashur DT2/steven/P'+p+'/FLIR_HiRes/npy/'\n",
    "\n",
    "start_time = time.time()\n",
    "thr_fname_list, thr_img_list = thr_load(img_dir=img_dir, first_img=first_img, last_img=last_img, interval=interval)\n",
    "\n",
    "fframe = thr_fname_list[0].split('.')[0]\n",
    "lframe = thr_fname_list[-1].split('.')[0]\n",
    "out_name = fframe + '_to_' + lframe + '.avi'\n",
    "out_path = '/Volumes/Ashur DT2/steven/P'+p+'/FLIR_HiRes/avi/'\n",
    "\n",
    "# make output directory if it does not exist\n",
    "if not os.path.exists(out_path):\n",
    "    os.makedirs(out_path)\n",
    "\n",
    "thr_vid_export(thr_img_list, out_path+out_name)\n",
    "\n",
    "print(\"runtime:\", time.time() - start_time)"
   ]
  },
  {
   "cell_type": "code",
   "execution_count": 10,
   "id": "b48d0588",
   "metadata": {},
   "outputs": [
    {
     "name": "stdout",
     "output_type": "stream",
     "text": [
      "runtime: 1872.177000284195\n"
     ]
    }
   ],
   "source": [
    "p = '22'\n",
    "first_img = 0\n",
    "last_img = 25000\n",
    "interval = 1\n",
    "\n",
    "img_dir = '/Volumes/Ashur DT2/steven/P'+p+'/FLIR_HiRes/npy/'\n",
    "\n",
    "start_time = time.time()\n",
    "thr_fname_list, thr_img_list = thr_load(img_dir=img_dir, first_img=first_img, last_img=last_img, interval=interval)\n",
    "\n",
    "fframe = thr_fname_list[0].split('.')[0]\n",
    "lframe = thr_fname_list[-1].split('.')[0]\n",
    "out_name = fframe + '_to_' + lframe + '.avi'\n",
    "out_path = '/Volumes/Ashur DT2/steven/P'+p+'/FLIR_HiRes/avi/'\n",
    "\n",
    "# make output directory if it does not exist\n",
    "if not os.path.exists(out_path):\n",
    "    os.makedirs(out_path)\n",
    "\n",
    "thr_vid_export(thr_img_list, out_path+out_name)\n",
    "\n",
    "print(\"runtime:\", time.time() - start_time)"
   ]
  },
  {
   "cell_type": "code",
   "execution_count": 4,
   "id": "fe5adcf2",
   "metadata": {},
   "outputs": [
    {
     "name": "stdout",
     "output_type": "stream",
     "text": [
      "runtime: 2205.6006112098694\n"
     ]
    }
   ],
   "source": [
    "p = '25'\n",
    "first_img = 0\n",
    "last_img = 25000\n",
    "interval = 1\n",
    "\n",
    "img_dir = '/Volumes/Ashur DT2/steven/P'+p+'/FLIR_HiRes/npy/'\n",
    "\n",
    "start_time = time.time()\n",
    "thr_fname_list, thr_img_list = thr_load(img_dir=img_dir, first_img=first_img, last_img=last_img, interval=interval)\n",
    "\n",
    "fframe = thr_fname_list[0].split('.')[0]\n",
    "lframe = thr_fname_list[-1].split('.')[0]\n",
    "out_name = fframe + '_to_' + lframe + '.avi'\n",
    "out_path = '/Volumes/Ashur DT2/steven/P'+p+'/FLIR_HiRes/avi/'\n",
    "\n",
    "# make output directory if it does not exist\n",
    "if not os.path.exists(out_path):\n",
    "    os.makedirs(out_path)\n",
    "\n",
    "thr_vid_export(thr_img_list, out_path+out_name)\n",
    "\n",
    "print(\"runtime:\", time.time() - start_time)"
   ]
  },
  {
   "cell_type": "code",
   "execution_count": 5,
   "id": "621ce41d",
   "metadata": {},
   "outputs": [
    {
     "name": "stdout",
     "output_type": "stream",
     "text": [
      "runtime: 2914.129725933075\n"
     ]
    }
   ],
   "source": [
    "p = '26'\n",
    "first_img = 0\n",
    "last_img = 25000\n",
    "interval = 1\n",
    "\n",
    "img_dir = '/Volumes/Ashur DT2/steven/P'+p+'/FLIR_HiRes/npy/'\n",
    "\n",
    "start_time = time.time()\n",
    "thr_fname_list, thr_img_list = thr_load(img_dir=img_dir, first_img=first_img, last_img=last_img, interval=interval)\n",
    "\n",
    "fframe = thr_fname_list[0].split('.')[0]\n",
    "lframe = thr_fname_list[-1].split('.')[0]\n",
    "out_name = fframe + '_to_' + lframe + '.avi'\n",
    "out_path = '/Volumes/Ashur DT2/steven/P'+p+'/FLIR_HiRes/avi/'\n",
    "\n",
    "# make output directory if it does not exist\n",
    "if not os.path.exists(out_path):\n",
    "    os.makedirs(out_path)\n",
    "\n",
    "thr_vid_export(thr_img_list, out_path+out_name)\n",
    "\n",
    "print(\"runtime:\", time.time() - start_time)"
   ]
  },
  {
   "cell_type": "code",
   "execution_count": 6,
   "id": "de86ed49",
   "metadata": {},
   "outputs": [
    {
     "name": "stdout",
     "output_type": "stream",
     "text": [
      "runtime: 1875.8476748466492\n"
     ]
    }
   ],
   "source": [
    "p = '27'\n",
    "first_img = 0\n",
    "last_img = 25000\n",
    "interval = 1\n",
    "\n",
    "img_dir = '/Volumes/Ashur DT2/steven/P'+p+'/FLIR_HiRes/npy/'\n",
    "\n",
    "start_time = time.time()\n",
    "thr_fname_list, thr_img_list = thr_load(img_dir=img_dir, first_img=first_img, last_img=last_img, interval=interval)\n",
    "\n",
    "fframe = thr_fname_list[0].split('.')[0]\n",
    "lframe = thr_fname_list[-1].split('.')[0]\n",
    "out_name = fframe + '_to_' + lframe + '.avi'\n",
    "out_path = '/Volumes/Ashur DT2/steven/P'+p+'/FLIR_HiRes/avi/'\n",
    "\n",
    "# make output directory if it does not exist\n",
    "if not os.path.exists(out_path):\n",
    "    os.makedirs(out_path)\n",
    "\n",
    "thr_vid_export(thr_img_list, out_path+out_name)\n",
    "\n",
    "print(\"runtime:\", time.time() - start_time)"
   ]
  },
  {
   "cell_type": "code",
   "execution_count": null,
   "id": "532c1391",
   "metadata": {},
   "outputs": [],
   "source": []
  }
 ],
 "metadata": {
  "kernelspec": {
   "display_name": "Python 3",
   "language": "python",
   "name": "python3"
  },
  "language_info": {
   "codemirror_mode": {
    "name": "ipython",
    "version": 3
   },
   "file_extension": ".py",
   "mimetype": "text/x-python",
   "name": "python",
   "nbconvert_exporter": "python",
   "pygments_lexer": "ipython3",
   "version": "3.8.10"
  }
 },
 "nbformat": 4,
 "nbformat_minor": 5
}
