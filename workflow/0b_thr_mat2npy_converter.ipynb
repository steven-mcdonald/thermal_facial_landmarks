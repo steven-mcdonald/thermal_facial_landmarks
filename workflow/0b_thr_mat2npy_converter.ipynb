{
 "cells": [
  {
   "cell_type": "code",
   "execution_count": 2,
   "id": "197ece91",
   "metadata": {},
   "outputs": [],
   "source": [
    "import os\n",
    "import sys\n",
    "import numpy as np\n",
    "import matplotlib.pyplot as plt\n",
    "import scipy.io\n",
    "import time"
   ]
  },
  {
   "cell_type": "code",
   "execution_count": 3,
   "id": "f76a76b9",
   "metadata": {},
   "outputs": [],
   "source": [
    "import cv2\n",
    "import dlib"
   ]
  },
  {
   "cell_type": "code",
   "execution_count": 4,
   "id": "e05d0f90",
   "metadata": {},
   "outputs": [],
   "source": [
    "from PIL import Image"
   ]
  },
  {
   "cell_type": "markdown",
   "id": "e5d2ca75",
   "metadata": {},
   "source": [
    "# Only need to run code below once to convert files to numpy"
   ]
  },
  {
   "cell_type": "code",
   "execution_count": 5,
   "id": "6a47b9b7",
   "metadata": {},
   "outputs": [],
   "source": [
    "def mat2npy(in_pth, ou_pth):\n",
    "    \n",
    "    var_names = ['frame1', 'videoFrame']\n",
    "    flist = os.listdir(in_pth)\n",
    "    num_frames = len(flist)\n",
    "    \n",
    "    start_time = time.time()\n",
    "\n",
    "    for i in range(num_frames):\n",
    "        fn = \"frm_\" + str(i) + \".mat\"\n",
    "        mat = scipy.io.loadmat(os.path.join(in_pth, fn))\n",
    "        fr_name = [d for d in var_names if d in mat.keys()][0]\n",
    "        fn_np_array = os.path.join(ou_pth.replace(\"mat\", \"npy\"), fn.replace(\".mat\", \".npy\"))\n",
    "        np.save(fn_np_array, (mat[fr_name]))\n",
    "        \n",
    "        if i%5000 == 0:\n",
    "            print(\"frame: \", i)\n",
    "\n",
    "    print(\"runtime:\", time.time() - start_time)"
   ]
  },
  {
   "cell_type": "code",
   "execution_count": 5,
   "id": "0f3d6697",
   "metadata": {},
   "outputs": [
    {
     "name": "stdout",
     "output_type": "stream",
     "text": [
      "frame:  0\n",
      "frame:  5000\n",
      "frame:  10000\n",
      "frame:  15000\n",
      "frame:  20000\n",
      "frame:  25000\n",
      "runtime: 2750.226457834244\n"
     ]
    }
   ],
   "source": [
    "# p03\n",
    "in_pth = r\"/Volumes/Ashur DT2/steven/P03/FLIR_HiRes/mat\"\n",
    "ou_pth = r\"/Volumes/Ashur DT2/steven/P03/FLIR_HiRes/npy\"\n",
    "mat2npy(in_pth, ou_pth)"
   ]
  },
  {
   "cell_type": "code",
   "execution_count": 5,
   "id": "d0aae129",
   "metadata": {},
   "outputs": [],
   "source": [
    "# p06\n",
    "in_pth = r\"/Volumes/Ashur DT2/steven/P06/FLIR_HiRes/mat\"\n",
    "ou_pth = r\"/Volumes/Ashur DT2/steven/P06/FLIR_HiRes/npy\"\n",
    "mat2npy(in_pth, ou_pth)"
   ]
  },
  {
   "cell_type": "code",
   "execution_count": 6,
   "id": "6dea20e3",
   "metadata": {},
   "outputs": [],
   "source": [
    "# p07\n",
    "in_pth = r\"/Volumes/Ashur DT2/steven/P07/FLIR_HiRes/mat\"\n",
    "ou_pth = r\"/Volumes/Ashur DT2/steven/P07/FLIR_HiRes/npy\"\n",
    "mat2npy(in_pth, ou_pth)"
   ]
  },
  {
   "cell_type": "code",
   "execution_count": 9,
   "id": "cceec600",
   "metadata": {},
   "outputs": [
    {
     "name": "stdout",
     "output_type": "stream",
     "text": [
      "frame:  0\n",
      "frame:  5000\n",
      "frame:  10000\n",
      "frame:  15000\n",
      "frame:  20000\n",
      "frame:  25000\n",
      "runtime: 1742.7856109142303\n"
     ]
    }
   ],
   "source": [
    "# p08\n",
    "in_pth = r\"/Volumes/Ashur DT2/steven/P08/FLIR_HiRes/mat\"\n",
    "ou_pth = r\"/Volumes/Ashur DT2/steven/P08/FLIR_HiRes/npy\"\n",
    "mat2npy(in_pth, ou_pth)"
   ]
  },
  {
   "cell_type": "code",
   "execution_count": 10,
   "id": "3a023615",
   "metadata": {},
   "outputs": [
    {
     "name": "stdout",
     "output_type": "stream",
     "text": [
      "frame:  0\n",
      "frame:  5000\n",
      "frame:  10000\n",
      "frame:  15000\n",
      "frame:  20000\n",
      "frame:  25000\n",
      "runtime: 2367.6304280757904\n"
     ]
    }
   ],
   "source": [
    "# p04\n",
    "in_pth = r\"/Volumes/Ashur DT2/steven/P04/FLIR_HiRes/mat\"\n",
    "ou_pth = r\"/Volumes/Ashur DT2/steven/P04/FLIR_HiRes/npy\"\n",
    "mat2npy(in_pth, ou_pth)"
   ]
  },
  {
   "cell_type": "code",
   "execution_count": 7,
   "id": "23de6c91",
   "metadata": {},
   "outputs": [
    {
     "name": "stdout",
     "output_type": "stream",
     "text": [
      "frame:  0\n",
      "frame:  5000\n",
      "frame:  10000\n",
      "frame:  15000\n",
      "frame:  20000\n",
      "frame:  25000\n",
      "runtime: 2621.8946018218994\n"
     ]
    }
   ],
   "source": [
    "# p09\n",
    "in_pth = r\"/Volumes/Ashur DT2/steven/P09/FLIR_HiRes/mat\"\n",
    "ou_pth = r\"/Volumes/Ashur DT2/steven/P09/FLIR_HiRes/npy\"\n",
    "mat2npy(in_pth, ou_pth)"
   ]
  },
  {
   "cell_type": "code",
   "execution_count": 12,
   "id": "c9579ce0",
   "metadata": {},
   "outputs": [
    {
     "name": "stdout",
     "output_type": "stream",
     "text": [
      "frame:  0\n",
      "frame:  5000\n",
      "frame:  10000\n",
      "frame:  15000\n",
      "frame:  20000\n",
      "frame:  25000\n",
      "runtime: 959.7857801914215\n"
     ]
    }
   ],
   "source": [
    "# p10\n",
    "in_pth = r\"/Volumes/Ashur DT2/steven/P10/FLIR_HiRes/mat\"\n",
    "ou_pth = r\"/Volumes/Ashur DT2/steven/P10/FLIR_HiRes/npy\"\n",
    "mat2npy(in_pth, ou_pth)"
   ]
  },
  {
   "cell_type": "code",
   "execution_count": 6,
   "id": "7a14b4b1",
   "metadata": {},
   "outputs": [
    {
     "name": "stdout",
     "output_type": "stream",
     "text": [
      "frame:  0\n",
      "frame:  5000\n",
      "frame:  10000\n",
      "frame:  15000\n",
      "frame:  20000\n",
      "frame:  25000\n",
      "runtime: 2553.1552081108093\n"
     ]
    }
   ],
   "source": [
    "# p13\n",
    "in_pth = r\"/Volumes/Ashur DT2/steven/P13/FLIR_HiRes/mat\"\n",
    "ou_pth = r\"/Volumes/Ashur DT2/steven/P13/FLIR_HiRes/npy\"\n",
    "mat2npy(in_pth, ou_pth)"
   ]
  },
  {
   "cell_type": "code",
   "execution_count": 8,
   "id": "aa1fbcfb",
   "metadata": {},
   "outputs": [
    {
     "name": "stdout",
     "output_type": "stream",
     "text": [
      "frame:  0\n",
      "frame:  5000\n",
      "frame:  10000\n",
      "frame:  15000\n",
      "frame:  20000\n",
      "frame:  25000\n",
      "runtime: 2885.1299290657043\n"
     ]
    }
   ],
   "source": [
    "# p14\n",
    "in_pth = r\"/Volumes/Ashur DT2/steven/P14/FLIR_HiRes/mat\"\n",
    "ou_pth = r\"/Volumes/Ashur DT2/steven/P14/FLIR_HiRes/npy\"\n",
    "mat2npy(in_pth, ou_pth)"
   ]
  },
  {
   "cell_type": "code",
   "execution_count": 9,
   "id": "a3934ea7",
   "metadata": {},
   "outputs": [
    {
     "name": "stdout",
     "output_type": "stream",
     "text": [
      "frame:  0\n",
      "frame:  5000\n",
      "frame:  10000\n",
      "frame:  15000\n",
      "frame:  20000\n",
      "frame:  25000\n",
      "runtime: 3569.357043027878\n"
     ]
    }
   ],
   "source": [
    "# p15\n",
    "in_pth = r\"/Volumes/Ashur DT2/steven/P15/FLIR_HiRes/mat\"\n",
    "ou_pth = r\"/Volumes/Ashur DT2/steven/P15/FLIR_HiRes/npy\"\n",
    "mat2npy(in_pth, ou_pth)"
   ]
  },
  {
   "cell_type": "code",
   "execution_count": 11,
   "id": "c1eb9c1b",
   "metadata": {},
   "outputs": [
    {
     "name": "stdout",
     "output_type": "stream",
     "text": [
      "frame:  0\n",
      "frame:  5000\n",
      "frame:  10000\n",
      "frame:  15000\n",
      "frame:  20000\n",
      "frame:  25000\n",
      "runtime: 2528.2584099769592\n"
     ]
    }
   ],
   "source": [
    "# p16\n",
    "in_pth = r\"/Volumes/Ashur DT2/steven/P16/FLIR_HiRes/mat\"\n",
    "ou_pth = r\"/Volumes/Ashur DT2/steven/P16/FLIR_HiRes/npy\"\n",
    "mat2npy(in_pth, ou_pth)"
   ]
  },
  {
   "cell_type": "code",
   "execution_count": 13,
   "id": "c60862d4",
   "metadata": {},
   "outputs": [
    {
     "name": "stdout",
     "output_type": "stream",
     "text": [
      "frame:  0\n",
      "frame:  5000\n",
      "frame:  10000\n",
      "frame:  15000\n",
      "frame:  20000\n",
      "frame:  25000\n",
      "runtime: 2472.4087998867035\n"
     ]
    }
   ],
   "source": [
    "# p17\n",
    "in_pth = r\"/Volumes/Ashur DT2/steven/P17/FLIR_HiRes/mat\"\n",
    "ou_pth = r\"/Volumes/Ashur DT2/steven/P17/FLIR_HiRes/npy\"\n",
    "mat2npy(in_pth, ou_pth)"
   ]
  },
  {
   "cell_type": "code",
   "execution_count": 12,
   "id": "1c31b103",
   "metadata": {},
   "outputs": [
    {
     "name": "stdout",
     "output_type": "stream",
     "text": [
      "frame:  0\n",
      "frame:  5000\n",
      "frame:  10000\n",
      "frame:  15000\n",
      "frame:  20000\n",
      "frame:  25000\n",
      "runtime: 2518.417486190796\n"
     ]
    }
   ],
   "source": [
    "# p18\n",
    "in_pth = r\"/Volumes/Ashur DT2/steven/P18/FLIR_HiRes/mat\"\n",
    "ou_pth = r\"/Volumes/Ashur DT2/steven/P18/FLIR_HiRes/npy\"\n",
    "mat2npy(in_pth, ou_pth)"
   ]
  },
  {
   "cell_type": "code",
   "execution_count": 5,
   "id": "8598ba09",
   "metadata": {},
   "outputs": [
    {
     "name": "stdout",
     "output_type": "stream",
     "text": [
      "frame:  0\n",
      "frame:  5000\n",
      "frame:  10000\n",
      "frame:  15000\n",
      "frame:  20000\n",
      "frame:  25000\n",
      "runtime: 2674.69873213768\n"
     ]
    }
   ],
   "source": [
    "# p19\n",
    "in_pth = r\"/Volumes/Ashur DT2/steven/P19/FLIR_HiRes/mat\"\n",
    "ou_pth = r\"/Volumes/Ashur DT2/steven/P19/FLIR_HiRes/npy\"\n",
    "mat2npy(in_pth, ou_pth)"
   ]
  },
  {
   "cell_type": "code",
   "execution_count": 6,
   "id": "eb7380be",
   "metadata": {},
   "outputs": [
    {
     "name": "stdout",
     "output_type": "stream",
     "text": [
      "frame:  0\n",
      "frame:  5000\n",
      "frame:  10000\n",
      "frame:  15000\n",
      "frame:  20000\n",
      "frame:  25000\n",
      "runtime: 2785.7230520248413\n"
     ]
    }
   ],
   "source": [
    "# p20\n",
    "in_pth = r\"/Volumes/Ashur DT2/steven/P20/FLIR_HiRes/mat\"\n",
    "ou_pth = r\"/Volumes/Ashur DT2/steven/P20/FLIR_HiRes/npy\"\n",
    "mat2npy(in_pth, ou_pth)"
   ]
  },
  {
   "cell_type": "code",
   "execution_count": 5,
   "id": "4a1136f6",
   "metadata": {},
   "outputs": [
    {
     "name": "stdout",
     "output_type": "stream",
     "text": [
      "frame:  0\n",
      "frame:  5000\n",
      "frame:  10000\n",
      "frame:  15000\n",
      "frame:  20000\n",
      "frame:  25000\n",
      "runtime: 3552.671497106552\n"
     ]
    }
   ],
   "source": [
    "# p22\n",
    "in_pth = r\"/Volumes/Ashur DT2/steven/P22/FLIR_HiRes/mat\"\n",
    "ou_pth = r\"/Volumes/Ashur DT2/steven/P22/FLIR_HiRes/npy\"\n",
    "mat2npy(in_pth, ou_pth)"
   ]
  },
  {
   "cell_type": "code",
   "execution_count": 14,
   "id": "99abd4ca",
   "metadata": {},
   "outputs": [
    {
     "name": "stdout",
     "output_type": "stream",
     "text": [
      "frame:  0\n",
      "frame:  5000\n",
      "frame:  10000\n",
      "frame:  15000\n",
      "frame:  20000\n",
      "frame:  25000\n",
      "runtime: 2462.3035287857056\n"
     ]
    }
   ],
   "source": [
    "# p24\n",
    "in_pth = r\"/Volumes/Ashur DT2/steven/P24/FLIR_HiRes/mat\"\n",
    "ou_pth = r\"/Volumes/Ashur DT2/steven/P24/FLIR_HiRes/npy\"\n",
    "mat2npy(in_pth, ou_pth)"
   ]
  },
  {
   "cell_type": "code",
   "execution_count": 6,
   "id": "2b4e536b",
   "metadata": {},
   "outputs": [
    {
     "name": "stdout",
     "output_type": "stream",
     "text": [
      "frame:  0\n",
      "frame:  5000\n",
      "frame:  10000\n",
      "frame:  15000\n",
      "frame:  20000\n",
      "frame:  25000\n",
      "runtime: 2287.4869129657745\n"
     ]
    }
   ],
   "source": [
    "# p25\n",
    "in_pth = r\"/Volumes/Ashur DT2/steven/P25/FLIR_HiRes/mat\"\n",
    "ou_pth = r\"/Volumes/Ashur DT2/steven/P25/FLIR_HiRes/npy\"\n",
    "mat2npy(in_pth, ou_pth)"
   ]
  },
  {
   "cell_type": "code",
   "execution_count": 7,
   "id": "e93df7e9",
   "metadata": {},
   "outputs": [
    {
     "name": "stdout",
     "output_type": "stream",
     "text": [
      "frame:  0\n",
      "frame:  5000\n",
      "frame:  10000\n",
      "frame:  15000\n",
      "frame:  20000\n",
      "frame:  25000\n",
      "runtime: 2340.593743085861\n"
     ]
    }
   ],
   "source": [
    "# p26\n",
    "in_pth = r\"/Volumes/Ashur DT2/steven/P26/FLIR_HiRes/mat\"\n",
    "ou_pth = r\"/Volumes/Ashur DT2/steven/P26/FLIR_HiRes/npy\"\n",
    "mat2npy(in_pth, ou_pth)"
   ]
  },
  {
   "cell_type": "code",
   "execution_count": 8,
   "id": "690fd650",
   "metadata": {},
   "outputs": [
    {
     "name": "stdout",
     "output_type": "stream",
     "text": [
      "frame:  0\n",
      "frame:  5000\n",
      "frame:  10000\n",
      "frame:  15000\n",
      "frame:  20000\n",
      "frame:  25000\n",
      "runtime: 2834.0816547870636\n"
     ]
    }
   ],
   "source": [
    "# p27\n",
    "in_pth = r\"/Volumes/Ashur DT2/steven/P27/FLIR_HiRes/mat\"\n",
    "ou_pth = r\"/Volumes/Ashur DT2/steven/P27/FLIR_HiRes/npy\"\n",
    "mat2npy(in_pth, ou_pth)"
   ]
  },
  {
   "cell_type": "code",
   "execution_count": null,
   "id": "b85a046a",
   "metadata": {},
   "outputs": [],
   "source": []
  }
 ],
 "metadata": {
  "kernelspec": {
   "display_name": "Python 3",
   "language": "python",
   "name": "python3"
  },
  "language_info": {
   "codemirror_mode": {
    "name": "ipython",
    "version": 3
   },
   "file_extension": ".py",
   "mimetype": "text/x-python",
   "name": "python",
   "nbconvert_exporter": "python",
   "pygments_lexer": "ipython3",
   "version": "3.8.10"
  }
 },
 "nbformat": 4,
 "nbformat_minor": 5
}
