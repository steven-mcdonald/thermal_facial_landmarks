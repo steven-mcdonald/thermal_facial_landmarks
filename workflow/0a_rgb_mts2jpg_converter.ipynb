{
 "cells": [
  {
   "cell_type": "code",
   "execution_count": 1,
   "id": "2822c4e0",
   "metadata": {},
   "outputs": [],
   "source": [
    "import cv2\n",
    "import time"
   ]
  },
  {
   "cell_type": "code",
   "execution_count": 11,
   "id": "8c67ce02",
   "metadata": {},
   "outputs": [],
   "source": [
    "def mts2jpg(in_path, out_path, filename):\n",
    "\n",
    "    start_time = time.time()\n",
    "    # Opens the Video file\n",
    "    cap= cv2.VideoCapture(in_path+filename+'.MTS')\n",
    "    i=0\n",
    "    while(cap.isOpened()):\n",
    "        ret, frame = cap.read()\n",
    "        if ret == False:\n",
    "            break\n",
    "        i_str = str(i)\n",
    "        lead_zero_i = i_str.zfill(5)\n",
    "        cv2.imwrite(out_path+filename+'_'+lead_zero_i+'.jpg',frame)\n",
    "\n",
    "        if i%5000 == 0:\n",
    "            print(\"frame: \", i)\n",
    "\n",
    "        # only read first 30000 files to save disk space\n",
    "        if i >= 30000:\n",
    "            break\n",
    "            \n",
    "        i+=1\n",
    "\n",
    "    cap.release()\n",
    "    cv2.destroyAllWindows()\n",
    "\n",
    "    print(\"runtime:\", time.time() - start_time)    "
   ]
  },
  {
   "cell_type": "code",
   "execution_count": null,
   "id": "7837e59e",
   "metadata": {},
   "outputs": [],
   "source": [
    "# # P01\n",
    "\n",
    "# in_path = '/Volumes/Ashur DT2/DO NOT DELETE - Raw Data (All)/P01/RGB/'\n",
    "# out_path = '/Volumes/Ashur DT2/steven/P01/RGB/00000/'\n",
    "# filename = 'A-00000'\n",
    "\n",
    "# mts2jpg(in_path, out_path, filename)"
   ]
  },
  {
   "cell_type": "code",
   "execution_count": 19,
   "id": "5a13985e",
   "metadata": {},
   "outputs": [
    {
     "name": "stdout",
     "output_type": "stream",
     "text": [
      "frame:  0\n",
      "frame:  5000\n",
      "frame:  10000\n",
      "frame:  15000\n",
      "frame:  20000\n",
      "frame:  25000\n",
      "frame:  30000\n",
      "runtime: 1453.3944101333618\n"
     ]
    }
   ],
   "source": [
    "# P02\n",
    "\n",
    "in_path = '/Volumes/Ashur DT2/DO NOT DELETE - Raw Data (All)/P02/RGB/'\n",
    "out_path = '/Volumes/Ashur DT2/steven/P02/RGB/00000/'\n",
    "filename = 'A-00000'\n",
    "\n",
    "mts2jpg(in_path, out_path, filename)"
   ]
  },
  {
   "cell_type": "code",
   "execution_count": 4,
   "id": "ed840fcd",
   "metadata": {},
   "outputs": [
    {
     "name": "stdout",
     "output_type": "stream",
     "text": [
      "frame:  0\n",
      "frame:  5000\n",
      "frame:  10000\n",
      "frame:  15000\n",
      "frame:  20000\n",
      "frame:  25000\n",
      "frame:  30000\n",
      "frame:  35000\n",
      "frame:  40000\n",
      "frame:  45000\n",
      "runtime: 2371.9427609443665\n"
     ]
    }
   ],
   "source": [
    "# P03\n",
    "\n",
    "in_path = '/Volumes/Ashur DT2/DO NOT DELETE - Raw Data (All)/P03/RGB/'\n",
    "out_path = '/Volumes/Ashur DT2/steven/P03/RGB/00000/'\n",
    "filename = '00000'\n",
    "\n",
    "mts2jpg(in_path, out_path, filename)"
   ]
  },
  {
   "cell_type": "code",
   "execution_count": 5,
   "id": "9cb1c328",
   "metadata": {},
   "outputs": [
    {
     "name": "stdout",
     "output_type": "stream",
     "text": [
      "frame:  0\n",
      "frame:  5000\n",
      "frame:  10000\n",
      "frame:  15000\n",
      "frame:  20000\n",
      "frame:  25000\n",
      "frame:  30000\n",
      "frame:  35000\n",
      "frame:  40000\n",
      "frame:  45000\n",
      "runtime: 2185.4809091091156\n"
     ]
    }
   ],
   "source": [
    "# P10\n",
    "\n",
    "in_path = '/Volumes/Ashur DT2/DO NOT DELETE - Raw Data (All)/P10/RGB/'\n",
    "out_path = '/Volumes/Ashur DT2/steven/P10/RGB/00000/'\n",
    "filename = '00000'\n",
    "\n",
    "mts2jpg(in_path, out_path, filename)"
   ]
  },
  {
   "cell_type": "code",
   "execution_count": 6,
   "id": "3f76a41a",
   "metadata": {},
   "outputs": [
    {
     "name": "stdout",
     "output_type": "stream",
     "text": [
      "frame:  0\n",
      "frame:  5000\n",
      "frame:  10000\n",
      "frame:  15000\n",
      "frame:  20000\n",
      "frame:  25000\n",
      "frame:  30000\n",
      "frame:  35000\n",
      "frame:  40000\n",
      "frame:  45000\n",
      "runtime: 2046.662868976593\n"
     ]
    }
   ],
   "source": [
    "# P13\n",
    "\n",
    "in_path = '/Volumes/Ashur DT2/DO NOT DELETE - Raw Data (All)/P13/RGB/'\n",
    "out_path = '/Volumes/Ashur DT2/steven/P13/RGB/00000/'\n",
    "filename = '00000'\n",
    "\n",
    "mts2jpg(in_path, out_path, filename)"
   ]
  },
  {
   "cell_type": "code",
   "execution_count": 7,
   "id": "7a3fd7c3",
   "metadata": {},
   "outputs": [
    {
     "name": "stdout",
     "output_type": "stream",
     "text": [
      "frame:  0\n",
      "frame:  5000\n",
      "frame:  10000\n",
      "frame:  15000\n",
      "frame:  20000\n",
      "frame:  25000\n",
      "frame:  30000\n",
      "frame:  35000\n",
      "frame:  40000\n",
      "frame:  45000\n",
      "runtime: 1906.3473100662231\n"
     ]
    }
   ],
   "source": [
    "# P14\n",
    "\n",
    "in_path = '/Volumes/Ashur DT2/DO NOT DELETE - Raw Data (All)/P14/RGB/'\n",
    "out_path = '/Volumes/Ashur DT2/steven/P14/RGB/00000/'\n",
    "filename = '00000'\n",
    "\n",
    "mts2jpg(in_path, out_path, filename)"
   ]
  },
  {
   "cell_type": "code",
   "execution_count": 8,
   "id": "72fe1dab",
   "metadata": {},
   "outputs": [
    {
     "name": "stdout",
     "output_type": "stream",
     "text": [
      "frame:  0\n",
      "frame:  5000\n",
      "frame:  10000\n",
      "frame:  15000\n",
      "frame:  20000\n",
      "frame:  25000\n",
      "frame:  30000\n",
      "frame:  35000\n",
      "frame:  40000\n",
      "frame:  45000\n",
      "runtime: 2027.1180231571198\n"
     ]
    }
   ],
   "source": [
    "# P15\n",
    "\n",
    "in_path = '/Volumes/Ashur DT2/DO NOT DELETE - Raw Data (All)/P15/RGB/'\n",
    "out_path = '/Volumes/Ashur DT2/steven/P15/RGB/00000/'\n",
    "filename = '00000'\n",
    "\n",
    "mts2jpg(in_path, out_path, filename)"
   ]
  },
  {
   "cell_type": "code",
   "execution_count": 9,
   "id": "a8222766",
   "metadata": {
    "scrolled": true
   },
   "outputs": [
    {
     "name": "stdout",
     "output_type": "stream",
     "text": [
      "frame:  0\n",
      "frame:  5000\n",
      "frame:  10000\n",
      "frame:  15000\n",
      "frame:  20000\n",
      "frame:  25000\n",
      "frame:  30000\n",
      "frame:  35000\n",
      "frame:  40000\n",
      "frame:  45000\n",
      "runtime: 2247.2608139514923\n"
     ]
    }
   ],
   "source": [
    "# P16\n",
    "\n",
    "in_path = '/Volumes/Ashur DT2/DO NOT DELETE - Raw Data (All)/P16/RGB/'\n",
    "out_path = '/Volumes/Ashur DT2/steven/P16/RGB/00000/'\n",
    "filename = '00000'\n",
    "\n",
    "mts2jpg(in_path, out_path, filename)"
   ]
  },
  {
   "cell_type": "code",
   "execution_count": 10,
   "id": "3cd634ac",
   "metadata": {},
   "outputs": [
    {
     "name": "stdout",
     "output_type": "stream",
     "text": [
      "frame:  0\n",
      "frame:  5000\n",
      "frame:  10000\n",
      "frame:  15000\n",
      "frame:  20000\n",
      "frame:  25000\n",
      "frame:  30000\n",
      "frame:  35000\n",
      "frame:  40000\n",
      "frame:  45000\n",
      "runtime: 1984.537925004959\n"
     ]
    }
   ],
   "source": [
    "# P18\n",
    "\n",
    "in_path = '/Volumes/Ashur DT2/DO NOT DELETE - Raw Data (All)/P18/RGB/'\n",
    "out_path = '/Volumes/Ashur DT2/steven/P18/RGB/00000/'\n",
    "filename = '00000'\n",
    "\n",
    "mts2jpg(in_path, out_path, filename)"
   ]
  },
  {
   "cell_type": "code",
   "execution_count": 12,
   "id": "975efefa",
   "metadata": {},
   "outputs": [
    {
     "name": "stdout",
     "output_type": "stream",
     "text": [
      "frame:  0\n",
      "frame:  5000\n",
      "frame:  10000\n",
      "frame:  15000\n",
      "frame:  20000\n",
      "frame:  25000\n",
      "frame:  30000\n",
      "runtime: 1242.2177200317383\n"
     ]
    }
   ],
   "source": [
    "# P19\n",
    "\n",
    "in_path = '/Volumes/Ashur DT2/DO NOT DELETE - Raw Data (All)/P19/RGB/'\n",
    "out_path = '/Volumes/Ashur DT2/steven/P19/RGB/00000/'\n",
    "filename = '00000'\n",
    "\n",
    "mts2jpg(in_path, out_path, filename)"
   ]
  },
  {
   "cell_type": "code",
   "execution_count": 13,
   "id": "1fa3573a",
   "metadata": {},
   "outputs": [
    {
     "name": "stdout",
     "output_type": "stream",
     "text": [
      "frame:  0\n",
      "frame:  5000\n",
      "frame:  10000\n",
      "frame:  15000\n",
      "frame:  20000\n",
      "frame:  25000\n",
      "frame:  30000\n",
      "runtime: 1236.2518620491028\n"
     ]
    }
   ],
   "source": [
    "# P20\n",
    "\n",
    "in_path = '/Volumes/Ashur DT2/DO NOT DELETE - Raw Data (All)/P20/RGB/'\n",
    "out_path = '/Volumes/Ashur DT2/steven/P20/RGB/00000/'\n",
    "filename = '00000'\n",
    "\n",
    "mts2jpg(in_path, out_path, filename)"
   ]
  },
  {
   "cell_type": "code",
   "execution_count": 14,
   "id": "21be085a",
   "metadata": {},
   "outputs": [
    {
     "name": "stdout",
     "output_type": "stream",
     "text": [
      "frame:  0\n",
      "frame:  5000\n",
      "frame:  10000\n",
      "frame:  15000\n",
      "frame:  20000\n",
      "frame:  25000\n",
      "frame:  30000\n",
      "runtime: 1241.563364982605\n"
     ]
    }
   ],
   "source": [
    "# P22\n",
    "\n",
    "in_path = '/Volumes/Ashur DT2/DO NOT DELETE - Raw Data (All)/P22/RGB/'\n",
    "out_path = '/Volumes/Ashur DT2/steven/P22/RGB/00000/'\n",
    "filename = '00000'\n",
    "\n",
    "mts2jpg(in_path, out_path, filename)"
   ]
  },
  {
   "cell_type": "code",
   "execution_count": 15,
   "id": "43e2e037",
   "metadata": {},
   "outputs": [
    {
     "name": "stdout",
     "output_type": "stream",
     "text": [
      "frame:  0\n",
      "frame:  5000\n",
      "frame:  10000\n",
      "frame:  15000\n",
      "frame:  20000\n",
      "frame:  25000\n",
      "frame:  30000\n",
      "runtime: 1217.2585430145264\n"
     ]
    }
   ],
   "source": [
    "# P25\n",
    "\n",
    "in_path = '/Volumes/Ashur DT2/DO NOT DELETE - Raw Data (All)/P25/RGB/'\n",
    "out_path = '/Volumes/Ashur DT2/steven/P25/RGB/00000/'\n",
    "filename = '00000'\n",
    "\n",
    "mts2jpg(in_path, out_path, filename)"
   ]
  },
  {
   "cell_type": "code",
   "execution_count": 16,
   "id": "cf6679e8",
   "metadata": {},
   "outputs": [
    {
     "name": "stdout",
     "output_type": "stream",
     "text": [
      "frame:  0\n",
      "frame:  5000\n",
      "frame:  10000\n",
      "frame:  15000\n",
      "frame:  20000\n",
      "frame:  25000\n",
      "frame:  30000\n",
      "runtime: 1205.1306591033936\n"
     ]
    }
   ],
   "source": [
    "# P26\n",
    "\n",
    "in_path = '/Volumes/Ashur DT2/DO NOT DELETE - Raw Data (All)/P26/RGB/'\n",
    "out_path = '/Volumes/Ashur DT2/steven/P26/RGB/00000/'\n",
    "filename = '00000'\n",
    "\n",
    "mts2jpg(in_path, out_path, filename)"
   ]
  },
  {
   "cell_type": "code",
   "execution_count": 17,
   "id": "9c21e3b7",
   "metadata": {},
   "outputs": [
    {
     "name": "stdout",
     "output_type": "stream",
     "text": [
      "frame:  0\n",
      "frame:  5000\n",
      "frame:  10000\n",
      "frame:  15000\n",
      "frame:  20000\n",
      "frame:  25000\n",
      "frame:  30000\n",
      "runtime: 1579.0974171161652\n"
     ]
    }
   ],
   "source": [
    "# P27\n",
    "\n",
    "in_path = '/Volumes/Ashur DT2/DO NOT DELETE - Raw Data (All)/P27/RGB/'\n",
    "out_path = '/Volumes/Ashur DT2/steven/P27/RGB/00000/'\n",
    "filename = '00000'\n",
    "\n",
    "mts2jpg(in_path, out_path, filename)"
   ]
  },
  {
   "cell_type": "code",
   "execution_count": 18,
   "id": "f59a753c",
   "metadata": {},
   "outputs": [
    {
     "name": "stdout",
     "output_type": "stream",
     "text": [
      "frame:  0\n",
      "frame:  5000\n",
      "frame:  10000\n",
      "frame:  15000\n",
      "frame:  20000\n",
      "frame:  25000\n",
      "frame:  30000\n",
      "runtime: 1675.4878327846527\n"
     ]
    }
   ],
   "source": [
    "# P28\n",
    "\n",
    "in_path = '/Volumes/Ashur DT2/DO NOT DELETE - Raw Data (All)/P28/RGB/'\n",
    "out_path = '/Volumes/Ashur DT2/steven/P28/RGB/00000/'\n",
    "filename = '00000'\n",
    "\n",
    "mts2jpg(in_path, out_path, filename)"
   ]
  },
  {
   "cell_type": "code",
   "execution_count": null,
   "id": "d133d9f4",
   "metadata": {},
   "outputs": [],
   "source": []
  }
 ],
 "metadata": {
  "kernelspec": {
   "display_name": "Python 3",
   "language": "python",
   "name": "python3"
  },
  "language_info": {
   "codemirror_mode": {
    "name": "ipython",
    "version": 3
   },
   "file_extension": ".py",
   "mimetype": "text/x-python",
   "name": "python",
   "nbconvert_exporter": "python",
   "pygments_lexer": "ipython3",
   "version": "3.8.10"
  }
 },
 "nbformat": 4,
 "nbformat_minor": 5
}
