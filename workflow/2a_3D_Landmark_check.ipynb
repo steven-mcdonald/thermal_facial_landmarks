{
 "cells": [
  {
   "cell_type": "markdown",
   "id": "cd5cfe7d",
   "metadata": {},
   "source": [
    "## Check 3D landmarks by outputting labelled jpgs and a video"
   ]
  },
  {
   "cell_type": "code",
   "execution_count": 1,
   "id": "056e1220",
   "metadata": {},
   "outputs": [],
   "source": [
    "import matplotlib.pyplot as plt\n",
    "import numpy as np\n",
    "import cv2"
   ]
  },
  {
   "cell_type": "code",
   "execution_count": 2,
   "id": "3e0db3f9",
   "metadata": {},
   "outputs": [],
   "source": [
    "import dlib\n",
    "face_detector = dlib.get_frontal_face_detector()\n",
    "# shape predictor from http://dlib.net/files/shape_predictor_68_face_landmarks.dat.bz2\n",
    "# landmark_detector = dlib.shape_predictor(\"shape_predictor_68_face_landmarks.dat\")\n",
    "from PIL import Image"
   ]
  },
  {
   "cell_type": "code",
   "execution_count": 3,
   "id": "a30694b5",
   "metadata": {},
   "outputs": [],
   "source": [
    "import face_alignment\n",
    "from skimage import io\n",
    "import copy\n",
    "import json\n",
    "import time\n",
    "import os\n",
    "import pickle\n",
    "import ffmpeg\n",
    "\n",
    "from natsort import natsorted, ns\n",
    "\n",
    "from scipy.signal import medfilt\n",
    "from scipy.ndimage.filters import uniform_filter1d"
   ]
  },
  {
   "cell_type": "code",
   "execution_count": 4,
   "id": "d4ae5b65",
   "metadata": {},
   "outputs": [],
   "source": [
    "def rgb_load(img_dir, first_img=0, last_img=None, interval=1):\n",
    "    # create list of jpg images in directory\n",
    "    filenames = [f for f in os.listdir(img_dir) if f.split('.')[1] == 'jpg']\n",
    "    filenames.sort()\n",
    "    \n",
    "    img_list = []\n",
    "    \n",
    "    # selecting images to analyse\n",
    "    filenames=filenames[first_img:last_img:interval]\n",
    "    \n",
    "    for filename in filenames:\n",
    "        img = dlib.load_rgb_image(img_dir + filename)\n",
    "        img_list.append(img)\n",
    "        \n",
    "    return filenames, img_list"
   ]
  },
  {
   "cell_type": "code",
   "execution_count": 5,
   "id": "7cfe8cfb",
   "metadata": {},
   "outputs": [],
   "source": [
    "def resize_image(image, new_size=(128, 128)):\n",
    "    img_resize = Image.fromarray(image)\n",
    "    img_resize = img_resize.resize(new_size, Image.ANTIALIAS)\n",
    "    img_resize_np = np.array(img_resize)\n",
    "    return img_resize_np"
   ]
  },
  {
   "cell_type": "code",
   "execution_count": 6,
   "id": "fa18449c",
   "metadata": {},
   "outputs": [],
   "source": [
    "def resize_image_list(image_list, new_size=(128, 128)):\n",
    "    new_image_list = []\n",
    "    for i, img in enumerate(image_list):\n",
    "        new_image = resize_image(img, new_size=new_size)\n",
    "        new_image_list.append(new_image)\n",
    "    return new_image_list "
   ]
  },
  {
   "cell_type": "code",
   "execution_count": 7,
   "id": "f639c8c8",
   "metadata": {},
   "outputs": [],
   "source": [
    "def labelled_rgb_jpg_output(rgb_img_list, rgb_3Dlmarks_list):\n",
    "\n",
    "    RGB_labelled_img_list = []\n",
    "\n",
    "    for i in range(len(rgb_img_list)):\n",
    "\n",
    "        im_rgb_cp = rgb_img_list[i].copy()\n",
    "\n",
    "        for n in range(0,68):\n",
    "            try:\n",
    "                x=int(rgb_3Dlmarks_list[i][n][0])\n",
    "                y=int(rgb_3Dlmarks_list[i][n][1])\n",
    "                cv2.circle(im_rgb_cp, (x, y), 1, (255, 0, 0), 2)\n",
    "            except:\n",
    "                pass\n",
    "\n",
    "        RGB_labelled_img_list.append(im_rgb_cp) \n",
    "        \n",
    "    return RGB_labelled_img_list"
   ]
  },
  {
   "cell_type": "code",
   "execution_count": 8,
   "id": "dbcf28ab",
   "metadata": {},
   "outputs": [],
   "source": [
    "def output_rgb_jpg_list(img_list, filename_list, save_dir):\n",
    "    for i, img in enumerate(img_list):\n",
    "        fname = filename_list[i].split('.')[0]\n",
    "        save_path = save_dir + fname + '_proc.jpg'\n",
    "        im = Image.fromarray(img)\n",
    "#         im = im.convert(\"L\")\n",
    "        im.save(save_path)"
   ]
  },
  {
   "cell_type": "code",
   "execution_count": 9,
   "id": "5931b9db",
   "metadata": {},
   "outputs": [],
   "source": [
    "def output_rgb_lmark_video(p, rgb_first_img=0, rgb_last_img=None, rgb_int=1):\n",
    "    rgb_img_dir = '/Volumes/Ashur DT2/steven/P'+p+'/RGB/00000/'\n",
    "    rgb_fname_list, rgb_img_list = rgb_load(img_dir=rgb_img_dir, \n",
    "                                            first_img=rgb_first_img, \n",
    "                                            last_img=rgb_last_img, \n",
    "                                            interval=rgb_int)\n",
    "\n",
    "    # resize rgb images\n",
    "    rgb_img_list = resize_image_list(rgb_img_list, new_size=(455,256))\n",
    "\n",
    "    # Load RGB 3D landmark picks\n",
    "    with open('/Volumes/Ashur DT2/steven/pickles/p'+p+'_3Dlmarks_01_169.pickle', 'rb') as handle:\n",
    "        rgb_3Dlmarks_list = pickle.load(handle)\n",
    "\n",
    "    # select first set of rgb landmarks for any frame  \n",
    "    rgb_3Dlmarks_list = [x[0] for x in rgb_3Dlmarks_list]\n",
    "\n",
    "    RGB_labelled_img_list = labelled_rgb_jpg_output(rgb_img_list, rgb_3Dlmarks_list)\n",
    "\n",
    "    # export all frames\n",
    "    save_dir = '/Volumes/Ashur DT2/steven/P'+p+'/RGB/00000_jpg_lmarks_169/'\n",
    "    if not os.path.exists(save_dir):\n",
    "        os.makedirs(save_dir)\n",
    "\n",
    "    output_rgb_jpg_list(RGB_labelled_img_list, rgb_fname_list, save_dir)\n",
    "\n",
    "    jpg_path = '/Volumes/Ashur DT2/steven/P'+p+'/RGB/00000_jpg_lmarks_169/'\n",
    "    avi_path = '/Volumes/Ashur DT2/steven/P'+p+'/RGB/00000_avi/'\n",
    "    if not os.path.exists(avi_path):\n",
    "        os.makedirs(avi_path)\n",
    "\n",
    "    (\n",
    "    ffmpeg.input(jpg_path + '*.jpg', pattern_type='glob', framerate=25)\n",
    "          .output(avi_path + 'p' + p + '_lmarks_169.avi').overwrite_output()\n",
    "          .run()\n",
    "    )"
   ]
  },
  {
   "cell_type": "code",
   "execution_count": 15,
   "id": "d58702cd",
   "metadata": {},
   "outputs": [
    {
     "name": "stdout",
     "output_type": "stream",
     "text": [
      "runtime: 47.44243931770325\n"
     ]
    }
   ],
   "source": [
    "p = '03'\n",
    "\n",
    "rgb_first_img = 175\n",
    "rgb_last_img = 675\n",
    "rgb_int = 1\n",
    "\n",
    "start_time = time.time()\n",
    "output_rgb_lmark_video(p, rgb_first_img=rgb_first_img, rgb_last_img=rgb_last_img, rgb_int=rgb_int)\n",
    "print(\"runtime:\", time.time() - start_time)"
   ]
  },
  {
   "cell_type": "code",
   "execution_count": 14,
   "id": "fbabc05d",
   "metadata": {},
   "outputs": [
    {
     "name": "stdout",
     "output_type": "stream",
     "text": [
      "runtime: 39.95078110694885\n"
     ]
    }
   ],
   "source": [
    "p = '04'\n",
    "\n",
    "rgb_first_img = 11340\n",
    "rgb_last_img = 11840\n",
    "rgb_int = 1\n",
    "\n",
    "start_time = time.time()\n",
    "output_rgb_lmark_video(p, rgb_first_img=rgb_first_img, rgb_last_img=rgb_last_img, rgb_int=rgb_int)\n",
    "print(\"runtime:\", time.time() - start_time)"
   ]
  },
  {
   "cell_type": "code",
   "execution_count": 13,
   "id": "d09acfd7",
   "metadata": {},
   "outputs": [
    {
     "name": "stdout",
     "output_type": "stream",
     "text": [
      "runtime: 47.12202429771423\n"
     ]
    }
   ],
   "source": [
    "p = '05'\n",
    "\n",
    "rgb_first_img = 14173\n",
    "rgb_last_img = 14673\n",
    "rgb_int = 1\n",
    "\n",
    "start_time = time.time()\n",
    "output_rgb_lmark_video(p, rgb_first_img=rgb_first_img, rgb_last_img=rgb_last_img, rgb_int=rgb_int)\n",
    "print(\"runtime:\", time.time() - start_time)"
   ]
  },
  {
   "cell_type": "code",
   "execution_count": 16,
   "id": "e8ad27ef",
   "metadata": {},
   "outputs": [
    {
     "name": "stdout",
     "output_type": "stream",
     "text": [
      "runtime: 61.11845898628235\n"
     ]
    }
   ],
   "source": [
    "p = '06'\n",
    "\n",
    "rgb_first_img = 17500\n",
    "rgb_last_img = 18000\n",
    "rgb_int = 1\n",
    "\n",
    "start_time = time.time()\n",
    "output_rgb_lmark_video(p, rgb_first_img=rgb_first_img, rgb_last_img=rgb_last_img, rgb_int=rgb_int)\n",
    "print(\"runtime:\", time.time() - start_time)"
   ]
  },
  {
   "cell_type": "code",
   "execution_count": 12,
   "id": "1cea2db9",
   "metadata": {},
   "outputs": [
    {
     "name": "stdout",
     "output_type": "stream",
     "text": [
      "runtime: 57.82445788383484\n"
     ]
    }
   ],
   "source": [
    "p = '07'\n",
    "\n",
    "rgb_first_img = 10826\n",
    "rgb_last_img = 11326\n",
    "rgb_int = 1\n",
    "\n",
    "start_time = time.time()\n",
    "output_rgb_lmark_video(p, rgb_first_img=rgb_first_img, rgb_last_img=rgb_last_img, rgb_int=rgb_int)\n",
    "print(\"runtime:\", time.time() - start_time)"
   ]
  },
  {
   "cell_type": "code",
   "execution_count": 11,
   "id": "ead1f952",
   "metadata": {},
   "outputs": [
    {
     "name": "stdout",
     "output_type": "stream",
     "text": [
      "runtime: 58.43366718292236\n"
     ]
    }
   ],
   "source": [
    "p = '08'\n",
    "\n",
    "rgb_first_img = 13008\n",
    "rgb_last_img = 13508\n",
    "rgb_int = 1\n",
    "\n",
    "start_time = time.time()\n",
    "output_rgb_lmark_video(p, rgb_first_img=rgb_first_img, rgb_last_img=rgb_last_img, rgb_int=rgb_int)\n",
    "print(\"runtime:\", time.time() - start_time)"
   ]
  },
  {
   "cell_type": "code",
   "execution_count": 10,
   "id": "66f81286",
   "metadata": {},
   "outputs": [
    {
     "name": "stdout",
     "output_type": "stream",
     "text": [
      "runtime: 76.07940602302551\n"
     ]
    }
   ],
   "source": [
    "p = '09'\n",
    "\n",
    "rgb_first_img = 13071\n",
    "rgb_last_img = 13571\n",
    "rgb_int = 1\n",
    "\n",
    "\n",
    "start_time = time.time()\n",
    "output_rgb_lmark_video(p, rgb_first_img=rgb_first_img, rgb_last_img=rgb_last_img, rgb_int=rgb_int)\n",
    "print(\"runtime:\", time.time() - start_time)"
   ]
  },
  {
   "cell_type": "code",
   "execution_count": 12,
   "id": "ee924ab4",
   "metadata": {},
   "outputs": [
    {
     "name": "stdout",
     "output_type": "stream",
     "text": [
      "runtime: 31.513951063156128\n"
     ]
    }
   ],
   "source": [
    "p = '13'\n",
    "\n",
    "rgb_first_img = 2743\n",
    "rgb_last_img = 3243\n",
    "rgb_int = 1\n",
    "\n",
    "start_time = time.time()\n",
    "output_rgb_lmark_video(p, rgb_first_img=rgb_first_img, rgb_last_img=rgb_last_img, rgb_int=rgb_int)\n",
    "print(\"runtime:\", time.time() - start_time)"
   ]
  },
  {
   "cell_type": "code",
   "execution_count": 15,
   "id": "0571c181",
   "metadata": {},
   "outputs": [
    {
     "name": "stdout",
     "output_type": "stream",
     "text": [
      "runtime: 34.609588861465454\n"
     ]
    }
   ],
   "source": [
    "p = '14'\n",
    "\n",
    "rgb_first_img = 18226\n",
    "rgb_last_img = 18726\n",
    "rgb_int = 1\n",
    "\n",
    "start_time = time.time()\n",
    "output_rgb_lmark_video(p, rgb_first_img=rgb_first_img, rgb_last_img=rgb_last_img, rgb_int=rgb_int)\n",
    "print(\"runtime:\", time.time() - start_time)"
   ]
  },
  {
   "cell_type": "code",
   "execution_count": 17,
   "id": "fb0fade2",
   "metadata": {},
   "outputs": [
    {
     "name": "stdout",
     "output_type": "stream",
     "text": [
      "runtime: 56.6020233631134\n"
     ]
    }
   ],
   "source": [
    "p = '15'\n",
    "\n",
    "rgb_first_img = 6950\n",
    "rgb_last_img = 7450\n",
    "rgb_int = 1\n",
    "\n",
    "start_time = time.time()\n",
    "output_rgb_lmark_video(p, rgb_first_img=rgb_first_img, rgb_last_img=rgb_last_img, rgb_int=rgb_int)\n",
    "print(\"runtime:\", time.time() - start_time)"
   ]
  },
  {
   "cell_type": "code",
   "execution_count": 18,
   "id": "ecf4c6e8",
   "metadata": {},
   "outputs": [
    {
     "name": "stdout",
     "output_type": "stream",
     "text": [
      "runtime: 56.97691798210144\n"
     ]
    }
   ],
   "source": [
    "p = '16'\n",
    "\n",
    "rgb_first_img = 3403\n",
    "rgb_last_img = 3903\n",
    "rgb_int = 1\n",
    "\n",
    "start_time = time.time()\n",
    "output_rgb_lmark_video(p, rgb_first_img=rgb_first_img, rgb_last_img=rgb_last_img, rgb_int=rgb_int)\n",
    "print(\"runtime:\", time.time() - start_time)"
   ]
  },
  {
   "cell_type": "code",
   "execution_count": 17,
   "id": "aeb6bc6c",
   "metadata": {},
   "outputs": [
    {
     "name": "stdout",
     "output_type": "stream",
     "text": [
      "runtime: 42.008368730545044\n"
     ]
    }
   ],
   "source": [
    "p = '17'\n",
    "\n",
    "rgb_first_img = 2661\n",
    "rgb_last_img = 3161\n",
    "rgb_int = 1\n",
    "\n",
    "start_time = time.time()\n",
    "output_rgb_lmark_video(p, rgb_first_img=rgb_first_img, rgb_last_img=rgb_last_img, rgb_int=rgb_int)\n",
    "print(\"runtime:\", time.time() - start_time)"
   ]
  },
  {
   "cell_type": "code",
   "execution_count": 20,
   "id": "fe68b2f4",
   "metadata": {},
   "outputs": [
    {
     "name": "stdout",
     "output_type": "stream",
     "text": [
      "runtime: 58.42393112182617\n"
     ]
    }
   ],
   "source": [
    "p = '18'\n",
    "\n",
    "rgb_first_img = 8145\n",
    "rgb_last_img = 8645\n",
    "rgb_int = 1\n",
    "\n",
    "start_time = time.time()\n",
    "output_rgb_lmark_video(p, rgb_first_img=rgb_first_img, rgb_last_img=rgb_last_img, rgb_int=rgb_int)\n",
    "print(\"runtime:\", time.time() - start_time)"
   ]
  },
  {
   "cell_type": "code",
   "execution_count": 22,
   "id": "6ed5212f",
   "metadata": {},
   "outputs": [
    {
     "name": "stdout",
     "output_type": "stream",
     "text": [
      "runtime: 55.868805170059204\n"
     ]
    }
   ],
   "source": [
    "p = '19'\n",
    "\n",
    "rgb_first_img = 2137\n",
    "rgb_last_img = 2637\n",
    "rgb_int = 1\n",
    "\n",
    "start_time = time.time()\n",
    "output_rgb_lmark_video(p, rgb_first_img=rgb_first_img, rgb_last_img=rgb_last_img, rgb_int=rgb_int)\n",
    "print(\"runtime:\", time.time() - start_time)"
   ]
  },
  {
   "cell_type": "code",
   "execution_count": 23,
   "id": "3098da79",
   "metadata": {},
   "outputs": [
    {
     "name": "stdout",
     "output_type": "stream",
     "text": [
      "runtime: 57.57256007194519\n"
     ]
    }
   ],
   "source": [
    "p = '20'\n",
    "\n",
    "rgb_first_img = 6847\n",
    "rgb_last_img = 7347\n",
    "rgb_int = 1\n",
    "\n",
    "start_time = time.time()\n",
    "output_rgb_lmark_video(p, rgb_first_img=rgb_first_img, rgb_last_img=rgb_last_img, rgb_int=rgb_int)\n",
    "print(\"runtime:\", time.time() - start_time)"
   ]
  },
  {
   "cell_type": "code",
   "execution_count": 24,
   "id": "1215e651",
   "metadata": {},
   "outputs": [
    {
     "name": "stdout",
     "output_type": "stream",
     "text": [
      "runtime: 54.21426606178284\n"
     ]
    }
   ],
   "source": [
    "p = '22'\n",
    "\n",
    "rgb_first_img = 7371\n",
    "rgb_last_img = 7871\n",
    "rgb_int = 1\n",
    "\n",
    "start_time = time.time()\n",
    "output_rgb_lmark_video(p, rgb_first_img=rgb_first_img, rgb_last_img=rgb_last_img, rgb_int=rgb_int)\n",
    "print(\"runtime:\", time.time() - start_time)"
   ]
  },
  {
   "cell_type": "code",
   "execution_count": null,
   "id": "8f3532b4",
   "metadata": {},
   "outputs": [],
   "source": [
    "p = '24'\n",
    "\n",
    "rgb_first_img = 9442\n",
    "rgb_last_img = 9942\n",
    "rgb_int = 1\n",
    "\n",
    "start_time = time.time()\n",
    "output_rgb_lmark_video(p, rgb_first_img=rgb_first_img, rgb_last_img=rgb_last_img, rgb_int=rgb_int)\n",
    "print(\"runtime:\", time.time() - start_time)"
   ]
  },
  {
   "cell_type": "code",
   "execution_count": 10,
   "id": "691be273",
   "metadata": {},
   "outputs": [
    {
     "name": "stdout",
     "output_type": "stream",
     "text": [
      "runtime: 48.26698923110962\n"
     ]
    }
   ],
   "source": [
    "p = '25'\n",
    "\n",
    "rgb_first_img = 754\n",
    "rgb_last_img = 1254\n",
    "rgb_int = 1\n",
    "\n",
    "start_time = time.time()\n",
    "output_rgb_lmark_video(p, rgb_first_img=rgb_first_img, rgb_last_img=rgb_last_img, rgb_int=rgb_int)\n",
    "print(\"runtime:\", time.time() - start_time)"
   ]
  },
  {
   "cell_type": "code",
   "execution_count": 11,
   "id": "c4011041",
   "metadata": {},
   "outputs": [
    {
     "name": "stdout",
     "output_type": "stream",
     "text": [
      "runtime: 48.386412620544434\n"
     ]
    }
   ],
   "source": [
    "p = '26'\n",
    "\n",
    "rgb_first_img = 1050\n",
    "rgb_last_img = 1550\n",
    "rgb_int = 1\n",
    "\n",
    "start_time = time.time()\n",
    "output_rgb_lmark_video(p, rgb_first_img=rgb_first_img, rgb_last_img=rgb_last_img, rgb_int=rgb_int)\n",
    "print(\"runtime:\", time.time() - start_time)"
   ]
  },
  {
   "cell_type": "code",
   "execution_count": 12,
   "id": "5a58e39f",
   "metadata": {},
   "outputs": [
    {
     "name": "stdout",
     "output_type": "stream",
     "text": [
      "runtime: 37.45343589782715\n"
     ]
    }
   ],
   "source": [
    "p = '27'\n",
    "\n",
    "rgb_first_img = 7996\n",
    "rgb_last_img = 8496\n",
    "rgb_int = 1\n",
    "\n",
    "start_time = time.time()\n",
    "output_rgb_lmark_video(p, rgb_first_img=rgb_first_img, rgb_last_img=rgb_last_img, rgb_int=rgb_int)\n",
    "print(\"runtime:\", time.time() - start_time)"
   ]
  },
  {
   "cell_type": "code",
   "execution_count": null,
   "id": "a02803e0",
   "metadata": {},
   "outputs": [],
   "source": []
  }
 ],
 "metadata": {
  "kernelspec": {
   "display_name": "Python 3",
   "language": "python",
   "name": "python3"
  },
  "language_info": {
   "codemirror_mode": {
    "name": "ipython",
    "version": 3
   },
   "file_extension": ".py",
   "mimetype": "text/x-python",
   "name": "python",
   "nbconvert_exporter": "python",
   "pygments_lexer": "ipython3",
   "version": "3.8.10"
  }
 },
 "nbformat": 4,
 "nbformat_minor": 5
}
